{
 "cells": [
  {
   "cell_type": "code",
   "execution_count": 1,
   "metadata": {},
   "outputs": [
    {
     "name": "stdout",
     "output_type": "stream",
     "text": [
      "Installing packages:\n",
      "\t.package(path: \"/home/jmd/workspace/ml/fastai/nbs/swift/FastaiNotebook_07_batchnorm\")\n",
      "\t\tFastaiNotebook_07_batchnorm\n",
      "\t.package(path: \"/home/jmd/workspace/ml/fastai/nbs/swift/SwiftCV\")\n",
      "\t\tSwiftCV\n",
      "With SwiftPM flags: []\n",
      "Working in: /tmp/tmpwb76d_y8/swift-install\n",
      "/home/jmd/swift/usr/bin/swift-build: /home/jmd/anaconda3/lib/libcurl.so.4: no version information available (required by /home/jmd/swift/usr/lib/swift/linux/libFoundationNetworking.so)\n",
      "[1/2] Compiling jupyterInstalledPackages jupyterInstalledPackages.swift\n",
      "[2/3] Merging module jupyterInstalledPackages\n",
      "Initializing Swift...\n",
      "Installation complete!\n"
     ]
    }
   ],
   "source": [
    "%install-location $cwd/swift-install\n",
    "%install '.package(path: \"$cwd/FastaiNotebook_07_batchnorm\")' FastaiNotebook_07_batchnorm\n",
    "%install '.package(path: \"$cwd/SwiftCV\")' SwiftCV"
   ]
  },
  {
   "cell_type": "code",
   "execution_count": 2,
   "metadata": {},
   "outputs": [],
   "source": [
    "//export\n",
    "import Path\n",
    "import TensorFlow\n",
    "#if canImport(PythonKit)\n",
    "    import PythonKit\n",
    "#else\n",
    "    import Python\n",
    "#endif\n"
   ]
  },
  {
   "cell_type": "code",
   "execution_count": 3,
   "metadata": {},
   "outputs": [],
   "source": [
    "import FastaiNotebook_07_batchnorm"
   ]
  },
  {
   "cell_type": "code",
   "execution_count": 4,
   "metadata": {},
   "outputs": [
    {
     "data": {
      "text/plain": [
       "('inline', 'module://ipykernel.pylab.backend_inline')\n"
      ]
     },
     "execution_count": 4,
     "metadata": {},
     "output_type": "execute_result"
    }
   ],
   "source": [
    "%include \"EnableIPythonDisplay.swift\"\n",
    "IPythonDisplay.shell.enable_matplotlib(\"inline\")"
   ]
  },
  {
   "cell_type": "code",
   "execution_count": 5,
   "metadata": {},
   "outputs": [],
   "source": [
    "//export\n",
    "public let dataPath = Path.home/\".fastai\"/\"data\""
   ]
  },
  {
   "cell_type": "code",
   "execution_count": 6,
   "metadata": {},
   "outputs": [],
   "source": [
    "//export\n",
    "public func downloadImagenette(path: Path = dataPath, sz:String=\"-320\") -> Path {\n",
    "    let url = \"https://s3.amazonaws.com/fast-ai-imageclas/imagenette\\(sz).tgz\"\n",
    "    let fname = \"imagenette\\(sz)\"\n",
    "    let file = path/fname\n",
    "    try! path.mkdir(.p)\n",
    "    if !file.exists {\n",
    "        downloadFile(url, dest:(path/\"\\(fname).tgz\").string)\n",
    "        _ = \"/bin/tar\".shell(\"-xzf\", (path/\"\\(fname).tgz\").string, \"-C\", path.string)\n",
    "    }\n",
    "    return file\n",
    "}"
   ]
  },
  {
   "cell_type": "code",
   "execution_count": 7,
   "metadata": {},
   "outputs": [],
   "source": [
    "//export\n",
    "public func collectFiles(under path: Path, recurse: Bool = false, filtering extensions: [String]? = nil) -> [Path] {\n",
    "    var res: [Path] = []\n",
    "    for p in try! path.ls(){\n",
    "        if p.kind == .directory && recurse { \n",
    "            res += collectFiles(under: p.path, recurse: recurse, filtering: extensions)\n",
    "        } else if extensions == nil || extensions!.contains(p.path.extension.lowercased()) {\n",
    "            res.append(p.path)\n",
    "        }\n",
    "    }\n",
    "    return res\n",
    "}"
   ]
  },
  {
   "cell_type": "code",
   "execution_count": 8,
   "metadata": {},
   "outputs": [],
   "source": [
    "//export\n",
    "public protocol DatasetConfig {\n",
    "    associatedtype Item\n",
    "    associatedtype Label\n",
    "    \n",
    "    static func download() -> Path\n",
    "    static func getItems(_ path: Path) -> [Item]\n",
    "    static func isTraining(_ item: Item) -> Bool\n",
    "    static func labelOf(_ item: Item) -> Label\n",
    "}"
   ]
  },
  {
   "cell_type": "code",
   "execution_count": 9,
   "metadata": {},
   "outputs": [],
   "source": [
    "//export\n",
    "public enum ImageNette: DatasetConfig {\n",
    "    \n",
    "    public static func download() -> Path { return downloadImagenette() }\n",
    "    \n",
    "    public static func getItems(_ path: Path) -> [Path] {\n",
    "        return collectFiles(under: path, recurse: true, filtering: [\"jpeg\", \"jpg\"])\n",
    "    }\n",
    "    \n",
    "    public static func isTraining(_ p:Path) -> Bool {\n",
    "        return p.parent.parent.basename() == \"train\"\n",
    "    }\n",
    "    \n",
    "    public static func labelOf(_ p:Path) -> String { return p.parent.basename() }\n",
    "}\n"
   ]
  },
  {
   "cell_type": "code",
   "execution_count": 10,
   "metadata": {},
   "outputs": [],
   "source": [
    "let path = ImageNette.download()\n",
    "let allFnames = ImageNette.getItems(path)"
   ]
  },
  {
   "cell_type": "code",
   "execution_count": 11,
   "metadata": {},
   "outputs": [],
   "source": [
    "//export\n",
    "public func describeSample<C>(_ item: C.Item, config: C.Type) where C: DatasetConfig {\n",
    "    let isTraining = C.isTraining(item)\n",
    "    let label = C.labelOf(item)\n",
    "    print(\"\"\"\n",
    "          item: \\(item)\n",
    "          training?:  \\(isTraining)\n",
    "          label: \\(label)\n",
    "          \"\"\")\n",
    "}"
   ]
  },
  {
   "cell_type": "code",
   "execution_count": 12,
   "metadata": {},
   "outputs": [
    {
     "name": "stdout",
     "output_type": "stream",
     "text": [
      "item: /home/jmd/.fastai/data/imagenette-320/val/n02102040/ILSVRC2012_val_00016768.JPEG\r\n",
      "training?:  false\r\n",
      "label: n02102040\r\n"
     ]
    }
   ],
   "source": [
    "describeSample(allFnames[0], config: ImageNette.self)"
   ]
  },
  {
   "cell_type": "code",
   "execution_count": 13,
   "metadata": {},
   "outputs": [],
   "source": [
    "//export\n",
    "public func partitionIntoTrainVal<T>(_ items:[T],isTrain:((T)->Bool)) -> (train:[T],valid:[T]){\n",
    "    return (train: items.filter(isTrain), valid: items.filter { !isTrain($0) })\n",
    "}"
   ]
  },
  {
   "cell_type": "code",
   "execution_count": 14,
   "metadata": {},
   "outputs": [],
   "source": [
    "var samples = partitionIntoTrainVal(allFnames, isTrain:ImageNette.isTraining)"
   ]
  },
  {
   "cell_type": "code",
   "execution_count": 15,
   "metadata": {},
   "outputs": [
    {
     "name": "stdout",
     "output_type": "stream",
     "text": [
      "item: /home/jmd/.fastai/data/imagenette-320/val/n03028079/ILSVRC2012_val_00016832.JPEG\r\n",
      "training?:  false\r\n",
      "label: n03028079\r\n"
     ]
    }
   ],
   "source": [
    "describeSample(samples.valid.randomElement()!, config: ImageNette.self)"
   ]
  },
  {
   "cell_type": "code",
   "execution_count": 16,
   "metadata": {},
   "outputs": [
    {
     "name": "stdout",
     "output_type": "stream",
     "text": [
      "item: /home/jmd/.fastai/data/imagenette-320/train/n03028079/n03028079_901.JPEG\r\n",
      "training?:  true\r\n",
      "label: n03028079\r\n"
     ]
    }
   ],
   "source": [
    "describeSample(samples.train.randomElement()!, config: ImageNette.self)"
   ]
  },
  {
   "cell_type": "code",
   "execution_count": 17,
   "metadata": {},
   "outputs": [],
   "source": [
    "//export\n",
    "public protocol Processor {\n",
    "    associatedtype Input\n",
    "    associatedtype Output\n",
    "    \n",
    "    mutating func initState(_ items: [Input])\n",
    "    func process  (_ item: Input)  -> Output\n",
    "    func deprocess(_ item: Output) -> Input\n",
    "}"
   ]
  },
  {
   "cell_type": "code",
   "execution_count": 18,
   "metadata": {},
   "outputs": [],
   "source": [
    "//export\n",
    "public struct CategoryProcessor: Processor {\n",
    "    private(set) public var intToLabel: [String] = []\n",
    "    private(set) public var labelToInt: [String:Int] = [:]\n",
    "    \n",
    "    public init() {}\n",
    "    \n",
    "    public mutating func initState(_ items: [String]) {\n",
    "        intToLabel = Array(Set(items)).sorted()\n",
    "        labelToInt = Dictionary(uniqueKeysWithValues:\n",
    "            intToLabel.enumerated().map{ ($0.element, $0.offset) })\n",
    "    }\n",
    "    \n",
    "    public func process(_ item: String) -> Int { return labelToInt[item]! }\n",
    "    public func deprocess(_ item: Int) -> String { return intToLabel[item] }\n",
    "}"
   ]
  },
  {
   "cell_type": "code",
   "execution_count": 19,
   "metadata": {},
   "outputs": [],
   "source": [
    "var trainLabels = samples.train.map(ImageNette.labelOf)\n",
    "var labelMapper = CategoryProcessor()\n",
    "labelMapper.initState(trainLabels)"
   ]
  },
  {
   "cell_type": "code",
   "execution_count": 20,
   "metadata": {},
   "outputs": [
    {
     "name": "stdout",
     "output_type": "stream",
     "text": [
      "label = n02979186\r\n",
      "number = 2\r\n",
      "label = n02979186\r\n"
     ]
    }
   ],
   "source": [
    "var randomLabel = labelMapper.intToLabel.randomElement()!\n",
    "print(\"label = \\(randomLabel)\")\n",
    "var numericalizedLabel = labelMapper.process(randomLabel)\n",
    "print(\"number = \\(numericalizedLabel)\")\n",
    "var labelFromNumber = labelMapper.deprocess(numericalizedLabel)\n",
    "print(\"label = \\(labelFromNumber)\")"
   ]
  },
  {
   "cell_type": "code",
   "execution_count": 21,
   "metadata": {},
   "outputs": [],
   "source": [
    "// export\n",
    "public func >| <A, B, C>(_ f: @escaping (A) -> B,\n",
    "                   _ g: @escaping (B) -> C) -> (A) -> C {\n",
    "    return { g(f($0)) }\n",
    "}"
   ]
  },
  {
   "cell_type": "code",
   "execution_count": 22,
   "metadata": {},
   "outputs": [],
   "source": [
    "var pathToNumericalizedLabel = ImageNette.labelOf >| labelMapper.process"
   ]
  },
  {
   "cell_type": "code",
   "execution_count": 23,
   "metadata": {},
   "outputs": [],
   "source": [
    "var trainNumLabels = samples.train.map(pathToNumericalizedLabel)\n",
    "var validNumLabels = samples.valid.map(pathToNumericalizedLabel)"
   ]
  },
  {
   "cell_type": "code",
   "execution_count": 24,
   "metadata": {},
   "outputs": [],
   "source": [
    "//export\n",
    "public struct SplitLabeledData<Item,Label> {\n",
    "    public var train: [(x: Item, y: Label)]\n",
    "    public var valid: [(x: Item, y: Label)]\n",
    "    \n",
    "    public init(train: [(x: Item, y: Label)], valid: [(x: Item, y: Label)]) {\n",
    "        (self.train,self.valid) = (train,valid)\n",
    "    }\n",
    "}"
   ]
  },
  {
   "cell_type": "code",
   "execution_count": 25,
   "metadata": {},
   "outputs": [],
   "source": [
    "//export\n",
    "public func makeSLD<C, P>(config: C.Type, procL: inout P) -> SplitLabeledData<C.Item, P.Output> \n",
    "where C: DatasetConfig, P: Processor, P.Input == C.Label{\n",
    "    let path = C.download()\n",
    "    let items = C.getItems(path)\n",
    "    let samples = partitionIntoTrainVal(items, isTrain:C.isTraining)\n",
    "    let trainLabels = samples.train.map(C.labelOf)\n",
    "    procL.initState(trainLabels)\n",
    "    let itemToProcessedLabel = C.labelOf >| procL.process\n",
    "    return SplitLabeledData(train: samples.train.map { ($0, itemToProcessedLabel($0)) },\n",
    "                            valid: samples.valid.map { ($0, itemToProcessedLabel($0)) })\n",
    "}"
   ]
  },
  {
   "cell_type": "code",
   "execution_count": 26,
   "metadata": {},
   "outputs": [],
   "source": [
    "var procL = CategoryProcessor()\n",
    "let sld = makeSLD(config: ImageNette.self, procL: &procL)"
   ]
  },
  {
   "cell_type": "code",
   "execution_count": 27,
   "metadata": {},
   "outputs": [],
   "source": [
    "//export\n",
    "import Foundation\n",
    "import SwiftCV"
   ]
  },
  {
   "cell_type": "code",
   "execution_count": 28,
   "metadata": {},
   "outputs": [],
   "source": [
    "//export\n",
    "public func openImage(_ fn: Path) -> Mat {\n",
    "    return imdecode(try! Data(contentsOf: fn.url))\n",
    "}"
   ]
  },
  {
   "cell_type": "code",
   "execution_count": 29,
   "metadata": {},
   "outputs": [],
   "source": [
    "//export\n",
    "public func showCVImage(_ img: Mat) {\n",
    "    let tensImg = Tensor<UInt8>(cvMat: img)!\n",
    "    let numpyImg = tensImg.makeNumpyArray()\n",
    "    plt.imshow(numpyImg) \n",
    "    plt.axis(\"off\")\n",
    "    plt.show()\n",
    "}"
   ]
  },
  {
   "cell_type": "code",
   "execution_count": null,
   "metadata": {},
   "outputs": [],
   "source": []
  }
 ],
 "metadata": {
  "kernelspec": {
   "display_name": "Swift",
   "language": "swift",
   "name": "swift"
  },
  "language_info": {
   "file_extension": ".swift",
   "mimetype": "text/x-swift",
   "name": "swift",
   "version": ""
  }
 },
 "nbformat": 4,
 "nbformat_minor": 2
}

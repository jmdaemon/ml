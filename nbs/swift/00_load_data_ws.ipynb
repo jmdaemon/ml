{
 "cells": [
  {
   "cell_type": "code",
   "execution_count": 1,
   "metadata": {},
   "outputs": [
    {
     "name": "stdout",
     "output_type": "stream",
     "text": [
      "Installing packages:\n",
      "\t.package(url: \"https://github.com/mxcl/Path.swift\", from: \"0.16.1\")\n",
      "\t\tPath\n",
      "\t.package(url: \"https://github.com/saeta/Just\", from: \"0.7.2\")\n",
      "\t\tJust\n",
      "\t.package(url: \"https://github.com/latenitesoft/NotebookExport\", from: \"0.5.0\")\n",
      "\t\tNotebookExport\n",
      "With SwiftPM flags: []\n",
      "Working in: /tmp/tmphx87uj5x/swift-install\n",
      "warning: /home/jmd/swift/usr/bin/swiftc: /home/jmd/anaconda3/envs/swift/lib/libuuid.so.1: no version information available (required by /home/jmd/swift/usr/bin/swiftc)\n",
      "/home/jmd/swift/usr/bin/swiftc: /home/jmd/anaconda3/envs/swift/lib/libtinfo.so.6: no version information available (required by /lib/x86_64-linux-gnu/libedit.so.2)\n",
      "/home/jmd/swift/usr/bin/swift: /home/jmd/anaconda3/envs/swift/lib/libuuid.so.1: no version information available (required by /home/jmd/swift/usr/bin/swift)\n",
      "/home/jmd/swift/usr/bin/swift: /home/jmd/anaconda3/envs/swift/lib/libtinfo.so.6: no version information available (required by /lib/x86_64-linux-gnu/libedit.so.2)\n",
      "warning: /home/jmd/swift/usr/bin/swiftc: /home/jmd/anaconda3/envs/swift/lib/libuuid.so.1: no version information available (required by /home/jmd/swift/usr/bin/swiftc)\n",
      "/home/jmd/swift/usr/bin/swiftc: /home/jmd/anaconda3/envs/swift/lib/libtinfo.so.6: no version information available (required by /lib/x86_64-linux-gnu/libedit.so.2)\n",
      "/home/jmd/swift/usr/bin/swift: /home/jmd/anaconda3/envs/swift/lib/libuuid.so.1: no version information available (required by /home/jmd/swift/usr/bin/swift)\n",
      "/home/jmd/swift/usr/bin/swift: /home/jmd/anaconda3/envs/swift/lib/libtinfo.so.6: no version information available (required by /lib/x86_64-linux-gnu/libedit.so.2)\n",
      "warning: /home/jmd/swift/usr/bin/swiftc: /home/jmd/anaconda3/envs/swift/lib/libuuid.so.1: no version information available (required by /home/jmd/swift/usr/bin/swiftc)\n",
      "/home/jmd/swift/usr/bin/swiftc: /home/jmd/anaconda3/envs/swift/lib/libtinfo.so.6: no version information available (required by /lib/x86_64-linux-gnu/libedit.so.2)\n",
      "/home/jmd/swift/usr/bin/swift: /home/jmd/anaconda3/envs/swift/lib/libuuid.so.1: no version information available (required by /home/jmd/swift/usr/bin/swift)\n",
      "/home/jmd/swift/usr/bin/swift: /home/jmd/anaconda3/envs/swift/lib/libtinfo.so.6: no version information available (required by /lib/x86_64-linux-gnu/libedit.so.2)\n",
      "warning: /home/jmd/swift/usr/bin/swiftc: /home/jmd/anaconda3/envs/swift/lib/libuuid.so.1: no version information available (required by /home/jmd/swift/usr/bin/swiftc)\n",
      "/home/jmd/swift/usr/bin/swiftc: /home/jmd/anaconda3/envs/swift/lib/libtinfo.so.6: no version information available (required by /lib/x86_64-linux-gnu/libedit.so.2)\n",
      "/home/jmd/swift/usr/bin/swift: /home/jmd/anaconda3/envs/swift/lib/libuuid.so.1: no version information available (required by /home/jmd/swift/usr/bin/swift)\n",
      "/home/jmd/swift/usr/bin/swift: /home/jmd/anaconda3/envs/swift/lib/libtinfo.so.6: no version information available (required by /lib/x86_64-linux-gnu/libedit.so.2)\n",
      "/home/jmd/swift/usr/bin/swiftc: /home/jmd/anaconda3/envs/swift/lib/libuuid.so.1: no version information available (required by /home/jmd/swift/usr/bin/swiftc)\n",
      "/home/jmd/swift/usr/bin/swiftc: /home/jmd/anaconda3/envs/swift/lib/libtinfo.so.6: no version information available (required by /lib/x86_64-linux-gnu/libedit.so.2)\n",
      "/home/jmd/swift/usr/bin/swiftc: /home/jmd/anaconda3/envs/swift/lib/libuuid.so.1: no version information available (required by /home/jmd/swift/usr/bin/swiftc)/home/jmd/swift/usr/bin/swiftc: /home/jmd/anaconda3/envs/swift/lib/libtinfo.so.6: no version information available (required by /lib/x86_64-linux-gnu/libedit.so.2)[1/3] Compiling jupyterInstalledPackages jupyterInstalledPackages.swift\n",
      "/home/jmd/swift/usr/bin/swift: /home/jmd/anaconda3/envs/swift/lib/libuuid.so.1: no version information available (required by /home/jmd/swift/usr/bin/swift)\n",
      "/home/jmd/swift/usr/bin/swift: /home/jmd/anaconda3/envs/swift/lib/libtinfo.so.6: no version information available (required by /lib/x86_64-linux-gnu/libedit.so.2)\n",
      "[2/4] Merging module jupyterInstalledPackages\n",
      "/home/jmd/swift/usr/bin/swift: /home/jmd/anaconda3/envs/swift/lib/libuuid.so.1: no version information available (required by /home/jmd/swift/usr/bin/swift)\n",
      "/home/jmd/swift/usr/bin/swift: /home/jmd/anaconda3/envs/swift/lib/libtinfo.so.6: no version information available (required by /lib/x86_64-linux-gnu/libedit.so.2)\n",
      "/home/jmd/swift/usr/bin/swiftc: /home/jmd/anaconda3/envs/swift/lib/libuuid.so.1: no version information available (required by /home/jmd/swift/usr/bin/swiftc)\n",
      "/home/jmd/swift/usr/bin/swiftc: /home/jmd/anaconda3/envs/swift/lib/libtinfo.so.6: no version information available (required by /lib/x86_64-linux-gnu/libedit.so.2)\n",
      "/home/jmd/swift/usr/bin/swift-autolink-extract: /home/jmd/anaconda3/envs/swift/lib/libuuid.so.1: no version information available (required by /home/jmd/swift/usr/bin/swift-autolink-extract)\n",
      "/home/jmd/swift/usr/bin/swift-autolink-extract: /home/jmd/anaconda3/envs/swift/lib/libtinfo.so.6: no version information available (required by /lib/x86_64-linux-gnu/libedit.so.2)\n",
      "[3/3] Linking libjupyterInstalledPackages.so\n",
      "Initializing Swift...\n",
      "Installation complete!\n"
     ]
    }
   ],
   "source": [
    "%install-location $cwd/swift-install\n",
    "%install '.package(url: \"https://github.com/mxcl/Path.swift\", from: \"0.16.1\")' Path\n",
    "%install '.package(url: \"https://github.com/saeta/Just\", from: \"0.7.2\")' Just\n",
    "%install '.package(url: \"https://github.com/latenitesoft/NotebookExport\", from: \"0.5.0\")' NotebookExport"
   ]
  },
  {
   "cell_type": "code",
   "execution_count": 2,
   "metadata": {},
   "outputs": [],
   "source": [
    "// export\n",
    "precedencegroup ExponentiationPrecedence {\n",
    "    associativity: right\n",
    "    higherThan: MultiplicationPrecedence\n",
    "}\n",
    "infix operator ** : ExponentiationPrecedence\n",
    "\n",
    "precedencegroup CompositionPrecedence { associativity: left }\n",
    "infix operator >| : CompositionPrecedence"
   ]
  },
  {
   "cell_type": "code",
   "execution_count": 3,
   "metadata": {},
   "outputs": [],
   "source": [
    "//export\n",
    "import Foundation\n",
    "import Just\n",
    "import Path"
   ]
  },
  {
   "cell_type": "code",
   "execution_count": 4,
   "metadata": {},
   "outputs": [],
   "source": [
    "//export\n",
    "public extension String {\n",
    "    @discardableResult\n",
    "    func shell(_ args: String...) -> String\n",
    "    {\n",
    "        let (task,pipe) = (Process(),Pipe())\n",
    "        task.executableURL = URL(fileURLWithPath: self)\n",
    "        (task.arguments,task.standardOutput) = (args,pipe)\n",
    "        do    { try task.run() }\n",
    "        catch { print(\"Unexpected error: \\(error).\") }\n",
    "\n",
    "        let data = pipe.fileHandleForReading.readDataToEndOfFile()\n",
    "        return String(data: data, encoding: String.Encoding.utf8) ?? \"\"\n",
    "    }\n",
    "}"
   ]
  },
  {
   "cell_type": "code",
   "execution_count": 5,
   "metadata": {},
   "outputs": [
    {
     "name": "stdout",
     "output_type": "stream",
     "text": [
      "total 15M\r\n",
      "-rw-r--r-- 1 jmd jmd  43K Nov 13 16:46 00a_intro_and_float.ipynb\r\n",
      "-rw-r--r-- 1 jmd jmd  29K Jan  7 16:43 00a_intro_and_float_ws.ipynb\r\n",
      "-rw-r--r-- 1 jmd jmd  27K Nov 11 16:45 00_load_data.ipynb\r\n",
      "-rw-r--r-- 1 jmd jmd  24K Jan  7 16:48 00_load_data_ws.ipynb\r\n",
      "-rw-r--r-- 1 jmd jmd  27K Mar  1 13:13 01a_fastai_layers.ipynb\r\n",
      "-rw-r--r-- 1 jmd jmd  41K Nov 20 21:20 01_matmul.ipynb\r\n",
      "-rw-r--r-- 1 jmd jmd  15K Jan  7 18:22 01_matmul_ws.ipynb\r\n",
      "-rw-r--r-- 1 jmd jmd  17K Aug 15  2019 02a_why_sqrt5.ipynb\r\n",
      "-rw-r--r-- 1 jmd jmd  16K Aug 15  2019 02b_initializing.ipynb\r\n",
      "-rw-r--r-- 1 jmd jmd  16K Aug 15  2019 02c_autodiff.ipynb\r\n",
      "-rw-r--r-- 1 jmd jmd  45K Aug 15  2019 02_fully_connected.ipynb\r\n",
      "-rw-r--r-- 1 jmd jmd  24K Aug 15  2019 03_minibatch_training.ipynb\r\n",
      "-rw-r--r-- 1 jmd jmd  32K Aug 15  2019 04_callbacks.ipynb\r\n",
      "-rw-r--r-- 1 jmd jmd  75K Aug 15  2019 05_anneal.ipynb\r\n",
      "-rw-r--r-- 1 jmd jmd  59K Aug 15  2019 05b_early_stopping.ipynb\r\n",
      "-rw-r--r-- 1 jmd jmd  71K Aug 15  2019 06_cuda.ipynb\r\n",
      "-rw-r--r-- 1 jmd jmd  39K Aug 15  2019 07_batchnorm.ipynb\r\n",
      "-rw-r--r-- 1 jmd jmd  15K Aug 15  2019 07b_batchnorm_lesson.ipynb\r\n",
      "-rw-r--r-- 1 jmd jmd  15K Aug 15  2019 08a_heterogeneous_dictionary.ipynb\r\n",
      "-rw-r--r-- 1 jmd jmd 772K Oct 21 15:11 08b_data_block_opencv.ipynb\r\n",
      "-rw-r--r-- 1 jmd jmd 438K Oct 21 15:11 08c_data_block_generic.ipynb\r\n",
      "-rw-r--r-- 1 jmd jmd 527K Oct 21 15:11 08c_data_block-lightlyfunctional.ipynb\r\n",
      "-rw-r--r-- 1 jmd jmd 837K Aug 15  2019 08_data_block.ipynb\r\n",
      "-rw-r--r-- 1 jmd jmd  75K Aug 15  2019 09_optimizer.ipynb\r\n",
      "-rw-r--r-- 1 jmd jmd  23K Aug 15  2019 10_mixup_ls.ipynb\r\n",
      "-rw-r--r-- 1 jmd jmd 552K Nov 20 21:31 11_imagenette.ipynb\r\n",
      "-rw-r--r-- 1 jmd jmd 105K Nov 20 21:31 audio.ipynb\r\n",
      "-rw-r--r-- 1 jmd jmd 304K Jan  9 15:48 c_interop_examples.ipynb\r\n",
      "-rw-r--r-- 1 jmd jmd  20K Jan  9 17:51 c_interop_examples_ws.ipynb\r\n",
      "drwxr-xr-x 3 jmd jmd 4.0K Aug 15  2019 datablock\r\n",
      "drwxr-xr-x 3 jmd jmd 4.0K Aug 15  2019 FastaiNotebook_00_load_data\r\n",
      "drwxr-xr-x 3 jmd jmd 4.0K Aug 15  2019 FastaiNotebook_01a_fastai_layers\r\n",
      "drwxr-xr-x 3 jmd jmd 4.0K Aug 15  2019 FastaiNotebook_01_matmul\r\n",
      "drwxr-xr-x 3 jmd jmd 4.0K Aug 15  2019 FastaiNotebook_02a_why_sqrt5\r\n",
      "drwxr-xr-x 3 jmd jmd 4.0K Aug 15  2019 FastaiNotebook_02_fully_connected\r\n",
      "drwxr-xr-x 3 jmd jmd 4.0K Aug 15  2019 FastaiNotebook_03_minibatch_training\r\n",
      "drwxr-xr-x 3 jmd jmd 4.0K Aug 15  2019 FastaiNotebook_04_callbacks\r\n",
      "drwxr-xr-x 3 jmd jmd 4.0K Aug 15  2019 FastaiNotebook_05_anneal\r\n",
      "drwxr-xr-x 3 jmd jmd 4.0K Aug 15  2019 FastaiNotebook_05b_early_stopping\r\n",
      "drwxr-xr-x 3 jmd jmd 4.0K Aug 15  2019 FastaiNotebook_06_cuda\r\n",
      "drwxr-xr-x 3 jmd jmd 4.0K Aug 15  2019 FastaiNotebook_07_batchnorm\r\n",
      "drwxr-xr-x 3 jmd jmd 4.0K Aug 15  2019 FastaiNotebook_08a_heterogeneous_dictionary\r\n",
      "drwxr-xr-x 3 jmd jmd 4.0K Aug 15  2019 FastaiNotebook_08c_data_block_generic\r\n",
      "drwxr-xr-x 3 jmd jmd 4.0K Aug 15  2019 FastaiNotebook_08_data_block\r\n",
      "drwxr-xr-x 3 jmd jmd 4.0K Aug 15  2019 FastaiNotebook_09_optimizer\r\n",
      "drwxr-xr-x 3 jmd jmd 4.0K Aug 15  2019 FastaiNotebook_10_mixup_ls\r\n",
      "drwxr-xr-x 3 jmd jmd 4.0K Aug 15  2019 FastaiNotebook_11_imagenette\r\n",
      "drwxr-xr-x 3 jmd jmd 4.0K Aug 15  2019 Imagenette\r\n",
      "-rw-r--r-- 1 jmd jmd 780K Jan  9 17:40 opencv_integration_example.ipynb\r\n",
      "-rw-r--r-- 1 jmd jmd  17K Mar  3 13:51 opencv_integration_example_ws.ipynb\r\n",
      "drwxr-xr-x 3 jmd jmd 4.0K Aug 15  2019 Runnable11\r\n",
      "drwxr-xr-x 7 jmd jmd 4.0K Mar  3 12:04 SwiftCV\r\n",
      "drwxr-xr-x 4 jmd jmd 4.0K Nov 11 16:57 swift-install\r\n",
      "drwxr-xr-x 5 jmd jmd 4.0K Aug 15  2019 SwiftSox\r\n",
      "drwxr-xr-x 4 jmd jmd 4.0K Jan  9 17:48 SwiftVips\r\n",
      "-rw-r--r-- 1 jmd jmd  17K Nov 13 16:46 Testing-Swift-Install.ipynb\r\n",
      "-rw------- 1 jmd jmd 9.5M Jan  7 16:43 train-images-idx3-ubyte.gz\r\n",
      "\r\n"
     ]
    }
   ],
   "source": [
    "print(\"/bin/ls\".shell(\"-lh\"))"
   ]
  },
  {
   "cell_type": "code",
   "execution_count": 6,
   "metadata": {},
   "outputs": [],
   "source": [
    "//export\n",
    "public func downloadFile(_ url: String, dest: String? = nil, force: Bool = false) {\n",
    "    let dest_name = dest ?? (Path.cwd/url.split(separator: \"/\").last!).string\n",
    "    let url_dest = URL(fileURLWithPath: (dest ?? (Path.cwd/url.split(separator: \"/\").last!).string))\n",
    "    if !force && Path(dest_name)!.exists { return }\n",
    "\n",
    "    print(\"Downloading \\(url)...\")\n",
    "\n",
    "    if let cts = Just.get(url).content {\n",
    "        do    {try cts.write(to: URL(fileURLWithPath:dest_name))}\n",
    "        catch {print(\"Can't write to \\(url_dest).\\n\\(error)\")}\n",
    "    } else {\n",
    "        print(\"Can't reach \\(url)\")\n",
    "    }\n",
    "}"
   ]
  },
  {
   "cell_type": "code",
   "execution_count": 7,
   "metadata": {},
   "outputs": [],
   "source": [
    "downloadFile(\"https://storage.googleapis.com/cvdf-datasets/mnist/train-images-idx3-ubyte.gz\")"
   ]
  },
  {
   "cell_type": "code",
   "execution_count": 8,
   "metadata": {},
   "outputs": [],
   "source": [
    "//export\n",
    "import TensorFlow"
   ]
  },
  {
   "cell_type": "code",
   "execution_count": 9,
   "metadata": {},
   "outputs": [
    {
     "ename": "",
     "evalue": "",
     "output_type": "error",
     "traceback": [
      "error: <Cell 9>:15:36: error: cannot invoke 'map' with an argument list of type '(@escaping (Tensor<T>) -> T?)'\n    if labels { return Tensor(data.map(T.init)) }\n                                   ^\n\n<Cell 9>:15:36: note: expected an argument list of type '((Self.Element) throws -> T)'\n    if labels { return Tensor(data.map(T.init)) }\n                                   ^\n\nerror: <Cell 9>:16:36: error: cannot invoke 'map' with an argument list of type '(@escaping (Tensor<T>) -> T?)'\n    else      { return Tensor(data.map(T.init)).reshaped(to: shape)}\n                                   ^\n\n<Cell 9>:16:36: note: expected an argument list of type '((Self.Element) throws -> T)'\n    else      { return Tensor(data.map(T.init)).reshaped(to: shape)}\n                                   ^\n\n"
     ]
    }
   ],
   "source": [
    "func loadMNIST<T>(training: Bool, labels: Bool, path: Path, flat: Bool) -> Tensor<T> {\n",
    "    let split = training ? \"train\" : \"t10k\"\n",
    "    let kind = labels ? \"labels\" : \"images\"\n",
    "    let batch = training ? 60000 : 10000\n",
    "    let shape: TensorShape = labels ? [batch] : (flat ? [batch, 784] : [batch, 28, 28])\n",
    "    let dropK = labels ? 8 : 16\n",
    "    let baseUrl = \"https://storage.googleapis.com/cvdf-datasets/mnist/\"\n",
    "    let fname = split + \"-\" + kind + \"-idx\\(labels ? 1 : 3)-ubyte\"\n",
    "    let file = path/fname\n",
    "    if !file.exists {\n",
    "        downloadFile(\"\\(baseUrl)\\(fname).gz\", dest:(path/\"\\(fname).gz\").string)\n",
    "        \"/bin/gunzip\".shell(\"-fq\", (path/\"\\(fname).gz\").string)\n",
    "    }\n",
    "    let data = try! Data(contentsOf: URL(fileURLWithPath: file.string)).dropFirst(dropK)\n",
    "    if labels { return Tensor(data.map(T.init)) }\n",
    "    else      { return Tensor(data.map(T.init)).reshaped(to: shape)}\n",
    "}"
   ]
  },
  {
   "cell_type": "code",
   "execution_count": 10,
   "metadata": {},
   "outputs": [],
   "source": [
    "//export\n",
    "protocol ConvertibleFromByte: TensorFlowScalar {\n",
    "    init(_ d:UInt8)\n",
    "}"
   ]
  },
  {
   "cell_type": "code",
   "execution_count": 11,
   "metadata": {},
   "outputs": [],
   "source": [
    "//export\n",
    "extension Float : ConvertibleFromByte {}\n",
    "extension Int32 : ConvertibleFromByte {}"
   ]
  },
  {
   "cell_type": "code",
   "execution_count": 12,
   "metadata": {},
   "outputs": [],
   "source": [
    "//export\n",
    "extension Data {\n",
    "    func asTensor<T:ConvertibleFromByte>() -> Tensor<T> {\n",
    "        return Tensor(map(T.init))\n",
    "    }\n",
    "}"
   ]
  },
  {
   "cell_type": "code",
   "execution_count": 13,
   "metadata": {},
   "outputs": [],
   "source": [
    "//export\n",
    "func loadMNIST<T: ConvertibleFromByte>\n",
    "            (training: Bool, labels: Bool, path: Path, flat: Bool) -> Tensor<T> {\n",
    "    let split = training ? \"train\" : \"t10k\"\n",
    "    let kind = labels ? \"labels\" : \"images\"\n",
    "    let batch = training ? 60000 : 10000\n",
    "    let shape: TensorShape = labels ? [batch] : (flat ? [batch, 784] : [batch, 28, 28])\n",
    "    let dropK = labels ? 8 : 16\n",
    "    let baseUrl = \"https://storage.googleapis.com/cvdf-datasets/mnist/\"\n",
    "    let fname = split + \"-\" + kind + \"-idx\\(labels ? 1 : 3)-ubyte\"\n",
    "    let file = path/fname\n",
    "    if !file.exists {\n",
    "        downloadFile(\"\\(baseUrl)\\(fname).gz\", dest:(path/\"\\(fname).gz\").string)\n",
    "        \"/bin/gunzip\".shell(\"-fq\", (path/\"\\(fname).gz\").string)\n",
    "    }\n",
    "    let data = try! Data(contentsOf: URL(fileURLWithPath: file.string)).dropFirst(dropK)\n",
    "    if labels { return data.asTensor() }\n",
    "    else      { return data.asTensor().reshaped(to: shape)}\n",
    "}\n",
    "\n",
    "public func loadMNIST(path:Path, flat:Bool = false)\n",
    "        -> (Tensor<Float>, Tensor<Int32>, Tensor<Float>, Tensor<Int32>) {\n",
    "    try! path.mkdir(.p)\n",
    "    return (\n",
    "        loadMNIST(training: true,  labels: false, path: path, flat: flat) / 255.0,\n",
    "        loadMNIST(training: true,  labels: true,  path: path, flat: flat),\n",
    "        loadMNIST(training: false, labels: false, path: path, flat: flat) / 255.0,\n",
    "        loadMNIST(training: false, labels: true,  path: path, flat: flat)\n",
    "    )\n",
    "}"
   ]
  },
  {
   "cell_type": "code",
   "execution_count": 14,
   "metadata": {},
   "outputs": [],
   "source": [
    "//export\n",
    "public let mnistPath = Path.home/\".fastai\"/\"data\"/\"mnist_tst\""
   ]
  },
  {
   "cell_type": "code",
   "execution_count": 15,
   "metadata": {},
   "outputs": [
    {
     "data": {
      "text/plain": [
       "▿ [60000, 28, 28]\n",
       "  ▿ dimensions : 3 elements\n",
       "    - 0 : 60000\n",
       "    - 1 : 28\n",
       "    - 2 : 28\n"
      ]
     },
     "execution_count": 15,
     "metadata": {},
     "output_type": "execute_result"
    }
   ],
   "source": [
    "let (xTrain, yTrain, xValid, yValid) = loadMNIST(path: mnistPath)\n",
    "xTrain.shape"
   ]
  },
  {
   "cell_type": "code",
   "execution_count": 16,
   "metadata": {},
   "outputs": [
    {
     "data": {
      "text/plain": [
       "▿ [60000, 784]\n",
       "  ▿ dimensions : 2 elements\n",
       "    - 0 : 60000\n",
       "    - 1 : 784\n"
      ]
     },
     "execution_count": 16,
     "metadata": {},
     "output_type": "execute_result"
    }
   ],
   "source": [
    "let (xTrain, yTrain, xValid, yValid) = loadMNIST(path: mnistPath, flat: true)\n",
    "xTrain.shape"
   ]
  },
  {
   "cell_type": "code",
   "execution_count": 17,
   "metadata": {},
   "outputs": [],
   "source": [
    "//export \n",
    "import Dispatch\n",
    "\n",
    "// ⏰Time how long it takes to run the specified function, optionally taking\n",
    "// the average across a number of repetitions.\n",
    "public func time(repeating: Int = 1, _ f: () -> ()) {\n",
    "    guard repeating > 0 else { return }\n",
    "    \n",
    "    // Warmup\n",
    "    if repeating > 1 { f() }\n",
    "    \n",
    "    var times = [Double]()\n",
    "    for _ in 1...repeating {\n",
    "        let start = DispatchTime.now()\n",
    "        f()\n",
    "        let end = DispatchTime.now()\n",
    "        let nanoseconds = Double(end.uptimeNanoseconds - start.uptimeNanoseconds)\n",
    "        let milliseconds = nanoseconds / 1e6\n",
    "        times.append(milliseconds)\n",
    "    }\n",
    "    print(\"average: \\(times.reduce(0.0, +)/Double(times.count)) ms,   \" +\n",
    "          \"min: \\(times.reduce(times[0], min)) ms,   \" +\n",
    "          \"max: \\(times.reduce(times[0], max)) ms\")\n",
    "}"
   ]
  },
  {
   "cell_type": "code",
   "execution_count": 18,
   "metadata": {},
   "outputs": [
    {
     "name": "stdout",
     "output_type": "stream",
     "text": [
      "average: 376.0063265 ms,   min: 372.571737 ms,   max: 382.717561 ms\r\n"
     ]
    }
   ],
   "source": [
    "time(repeating: 10) {\n",
    "    _ = loadMNIST(training: false, labels: false, path: mnistPath, flat: false) as Tensor<Float>\n",
    "}"
   ]
  },
  {
   "cell_type": "code",
   "execution_count": 19,
   "metadata": {},
   "outputs": [],
   "source": [
    "// export\n",
    "public extension String {\n",
    "    func findFirst(pat: String) -> Range<String.Index>? {\n",
    "        return range(of: pat, options: .regularExpression)\n",
    "    }\n",
    "    func hasMatch(pat: String) -> Bool {\n",
    "        return findFirst(pat:pat) != nil\n",
    "    }\n",
    "}"
   ]
  },
  {
   "cell_type": "code",
   "execution_count": 20,
   "metadata": {},
   "outputs": [],
   "source": [
    "//export\n",
    "public func notebookToScript(fname: Path){\n",
    "    let newname = fname.basename(dropExtension: true)+\".swift\"\n",
    "    let url = fname.parent/\"FastaiNotebooks/Sources/FastaiNotebooks\"/newname\n",
    "    do {\n",
    "        let data = try Data(contentsOf: fname.url)\n",
    "        let jsonData = try JSONSerialization.jsonObject(with: data, options: .allowFragments) as! [String: Any]\n",
    "        let cells = jsonData[\"cells\"] as! [[String:Any]]\n",
    "        var module = \"\"\"\n",
    "/*\n",
    "THIS FILE WAS AUTOGENERATED! DO NOT EDIT!\n",
    "file to edit: \\(fname.lastPathComponent)\n",
    "\n",
    "*/\n",
    "        \n",
    "\"\"\"\n",
    "        for cell in cells {\n",
    "            if let source = cell[\"source\"] as? [String], !source.isEmpty, \n",
    "                   source[0].hasMatch(pat: #\"^\\s*//\\s*export\\s*$\"#) {\n",
    "                module.append(\"\\n\" + source[1...].joined() + \"\\n\")\n",
    "            }\n",
    "        }\n",
    "        try module.write(to: url, encoding: .utf8)\n",
    "    } catch {\n",
    "        print(\"Can't read the content of \\(fname)\")\n",
    "    }\n",
    "}"
   ]
  },
  {
   "cell_type": "code",
   "execution_count": 21,
   "metadata": {},
   "outputs": [],
   "source": [
    "// export\n",
    "public func exportNotebooks(_ path: Path) {\n",
    "    for entry in try! path.ls()\n",
    "    where entry.kind == Entry.Kind.file && \n",
    "          entry.path.basename().hasMatch(pat: #\"^\\d*_.*ipynb$\"#) {\n",
    "        print(\"Converting \\(entry)\")\n",
    "        notebookToScript(fname: entry.path)\n",
    "    }\n",
    "}"
   ]
  },
  {
   "cell_type": "code",
   "execution_count": 22,
   "metadata": {},
   "outputs": [
    {
     "name": "stdout",
     "output_type": "stream",
     "text": [
      "Can't read the content of /home/jmd/workspace/fastai/course-v3/nbs/swift/00_load_data.ipynb\r\n"
     ]
    }
   ],
   "source": [
    "notebookToScript(fname: Path.cwd/\"00_load_data.ipynb\")"
   ]
  },
  {
   "cell_type": "code",
   "execution_count": 23,
   "metadata": {},
   "outputs": [
    {
     "name": "stdout",
     "output_type": "stream",
     "text": [
      "success\r\n"
     ]
    }
   ],
   "source": [
    "import NotebookExport\n",
    "let exporter = NotebookExport(Path.cwd/\"00_load_data.ipynb\")\n",
    "print(exporter.export(usingPrefix: \"FastaiNotebook_\"))"
   ]
  },
  {
   "cell_type": "code",
   "execution_count": null,
   "metadata": {},
   "outputs": [],
   "source": []
  },
  {
   "cell_type": "code",
   "execution_count": null,
   "metadata": {},
   "outputs": [],
   "source": []
  }
 ],
 "metadata": {
  "kernelspec": {
   "display_name": "Swift",
   "language": "swift",
   "name": "swift"
  },
  "language_info": {
   "file_extension": ".swift",
   "mimetype": "text/x-swift",
   "name": "swift",
   "version": ""
  }
 },
 "nbformat": 4,
 "nbformat_minor": 2
}

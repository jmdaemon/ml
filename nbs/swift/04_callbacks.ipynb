{
 "cells": [
  {
   "cell_type": "code",
   "execution_count": 1,
   "metadata": {},
   "outputs": [
    {
     "name": "stdout",
     "output_type": "stream",
     "text": [
      "Installing packages:\n",
      "\t.package(path: \"/home/jmd/workspace/ml/fastai/nbs/swift/FastaiNotebook_03_minibatch_training\")\n",
      "\t\tFastaiNotebook_03_minibatch_training\n",
      "With SwiftPM flags: []\n",
      "Working in: /tmp/tmpbhti7yvt/swift-install\n",
      "/home/jmd/swift/usr/bin/swift-build: /home/jmd/anaconda3/lib/libcurl.so.4: no version information available (required by /home/jmd/swift/usr/lib/swift/linux/libFoundationNetworking.so)\n",
      "[1/2] Compiling jupyterInstalledPackages jupyterInstalledPackages.swift\n",
      "[2/3] Merging module jupyterInstalledPackages\n",
      "Initializing Swift...\n",
      "Installation complete!\n"
     ]
    }
   ],
   "source": [
    "%install-location $cwd/swift-install\n",
    "%install '.package(path: \"$cwd/FastaiNotebook_03_minibatch_training\")' FastaiNotebook_03_minibatch_training"
   ]
  },
  {
   "cell_type": "code",
   "execution_count": 2,
   "metadata": {},
   "outputs": [],
   "source": [
    "//export\n",
    "import Path\n",
    "import TensorFlow"
   ]
  },
  {
   "cell_type": "code",
   "execution_count": 3,
   "metadata": {},
   "outputs": [],
   "source": [
    "import FastaiNotebook_03_minibatch_training"
   ]
  },
  {
   "cell_type": "code",
   "execution_count": 4,
   "metadata": {},
   "outputs": [],
   "source": [
    "var (xTrain,yTrain,xValid,yValid) = loadMNIST(path: mnistPath, flat: true)"
   ]
  },
  {
   "cell_type": "code",
   "execution_count": 5,
   "metadata": {},
   "outputs": [
    {
     "name": "stdout",
     "output_type": "stream",
     "text": [
      "60000 784 10\r\n"
     ]
    }
   ],
   "source": [
    "let (n,m) = (xTrain.shape[0],xTrain.shape[1])\n",
    "let c = yTrain.max().scalarized()+1\n",
    "print(n,m,c)\n",
    "let nHid = 50"
   ]
  },
  {
   "cell_type": "code",
   "execution_count": 6,
   "metadata": {},
   "outputs": [],
   "source": [
    "// export\n",
    "public struct BasicModel: Layer {\n",
    "    public var layer1, layer2: FADense<Float>\n",
    "    \n",
    "    public init(nIn: Int, nHid: Int, nOut: Int){\n",
    "        layer1 = FADense(nIn, nHid, activation: relu)\n",
    "        layer2 = FADense(nHid, nOut)\n",
    "    }\n",
    "    \n",
    "    @differentiable\n",
    "    public func callAsFunction(_ input: Tensor<Float>) -> Tensor<Float> {\n",
    "        return layer2(layer1(input))\n",
    "    }\n",
    "}"
   ]
  },
  {
   "cell_type": "code",
   "execution_count": 7,
   "metadata": {},
   "outputs": [],
   "source": [
    "var model: [FADense<Float>] = [\n",
    "    FADense(m, nHid, activation: relu),\n",
    "    FADense(nHid, Int(c))] // BasicModel(nIn: m, nHid: nHid, nOut: Int(c))"
   ]
  },
  {
   "cell_type": "code",
   "execution_count": 8,
   "metadata": {},
   "outputs": [],
   "source": [
    "//export \n",
    "public struct FADataset<Element> where Element: TensorGroup {\n",
    "    public var innerDs: Dataset<Element>\n",
    "    public var shuffle = false\n",
    "    public var bs = 64 \n",
    "    public var dsCount: Int\n",
    "    public var count: Int {\n",
    "        return dsCount%bs == 0 ? dsCount/bs : dsCount/bs+1\n",
    "    }\n",
    "    \n",
    "    public var ds: Dataset<Element> { \n",
    "        if !shuffle { return innerDs.batched(bs)}\n",
    "        let seed = Int64.random(in: Int64.min..<Int64.max)\n",
    "        return innerDs.shuffled(sampleCount: dsCount, randomSeed: seed).batched(bs)\n",
    "    }\n",
    "    \n",
    "    public init(_ ds: Dataset<Element>, len: Int, shuffle: Bool = false, bs: Int = 64) {\n",
    "        (self.innerDs,self.dsCount,self.shuffle,self.bs) = (ds, len, shuffle, bs)\n",
    "    }\n",
    "}"
   ]
  },
  {
   "cell_type": "code",
   "execution_count": 9,
   "metadata": {},
   "outputs": [],
   "source": [
    "// export\n",
    "public struct DataBunch<Element> where Element: TensorGroup{\n",
    "    public var train, valid: FADataset<Element>\n",
    "    \n",
    "    public init(train: Dataset<Element>, valid: Dataset<Element>, trainLen: Int, validLen: Int, bs: Int = 64) {\n",
    "        self.train = FADataset(train, len: trainLen, shuffle: true,  bs: bs)\n",
    "        self.valid = FADataset(valid, len: validLen, shuffle: false, bs: 2*bs)\n",
    "    }\n",
    "}"
   ]
  },
  {
   "cell_type": "code",
   "execution_count": 10,
   "metadata": {},
   "outputs": [],
   "source": [
    "//export\n",
    "public func mnistDataBunch(path: Path = mnistPath, flat: Bool = false, bs: Int = 64)\n",
    "   -> DataBunch<DataBatch<TF, TI>> {\n",
    "    let (xTrain,yTrain,xValid,yValid) = loadMNIST(path: path, flat: flat)\n",
    "    return DataBunch(train: Dataset(elements: DataBatch(xb:xTrain, yb: yTrain)), \n",
    "                     valid: Dataset(elements: DataBatch(xb:xValid, yb: yValid)),\n",
    "                     trainLen: xTrain.shape[0],\n",
    "                     validLen: xValid.shape[0],\n",
    "                     bs: bs)\n",
    "}"
   ]
  },
  {
   "cell_type": "code",
   "execution_count": 11,
   "metadata": {},
   "outputs": [],
   "source": [
    "let data = mnistDataBunch(flat: true)"
   ]
  },
  {
   "cell_type": "code",
   "execution_count": 12,
   "metadata": {},
   "outputs": [
    {
     "data": {
      "text/plain": [
       "938\n"
      ]
     },
     "execution_count": 12,
     "metadata": {},
     "output_type": "execute_result"
    }
   ],
   "source": [
    "data.train.count"
   ]
  },
  {
   "cell_type": "code",
   "execution_count": 13,
   "metadata": {},
   "outputs": [],
   "source": [
    "//export\n",
    "public extension Sequence {\n",
    "  func first() -> Element? {\n",
    "    return first(where: {_ in true})\n",
    "  }\n",
    "}"
   ]
  },
  {
   "cell_type": "code",
   "execution_count": 14,
   "metadata": {},
   "outputs": [
    {
     "name": "stdout",
     "output_type": "stream",
     "text": [
      "average: 103.1374668 ms,   min: 86.645565 ms,   max: 234.775466 ms\r\n"
     ]
    }
   ],
   "source": [
    "time(repeating: 10) {\n",
    "  let tst = data.train.ds\n",
    "\n",
    "  tst.first()!.yb\n",
    "}"
   ]
  },
  {
   "cell_type": "code",
   "execution_count": 15,
   "metadata": {},
   "outputs": [
    {
     "data": {
      "text/plain": [
       "[9, 4, 0, 3, 4, 0, 1, 7, 5, 6, 5, 6, 6, 6, 1, 3, 9, 9, 7, 5, 1, 7, 7, 2, 2, 8, 7, 1, 9, 3, 3, 0, 4, 9, 8, 8, 8, 5, 1, 8, 4, 0, 1, 0, 0, 9, 7, 2, 3, 6, 3, 1, 8, 5, 0, 6, 7, 3, 7, 9, 2, 1, 0, 3]\n"
      ]
     },
     "execution_count": 15,
     "metadata": {},
     "output_type": "execute_result"
    }
   ],
   "source": [
    "var tst = data.train.ds\n",
    "tst.first()!.yb"
   ]
  },
  {
   "cell_type": "code",
   "execution_count": 16,
   "metadata": {},
   "outputs": [
    {
     "data": {
      "text/plain": [
       "[2, 6, 3, 5, 9, 4, 1, 6, 0, 9, 5, 4, 8, 6, 9, 0, 2, 9, 2, 4, 1, 3, 2, 4, 3, 8, 8, 2, 7, 1, 1, 8, 8, 1, 0, 1, 6, 3, 9, 1, 3, 1, 7, 0, 4, 0, 3, 5, 4, 5, 5, 4, 1, 3, 7, 8, 2, 7, 5, 8, 7, 4, 6, 2]\n"
      ]
     },
     "execution_count": 16,
     "metadata": {},
     "output_type": "execute_result"
    }
   ],
   "source": [
    "tst = data.train.ds\n",
    "tst.first()!.yb"
   ]
  },
  {
   "cell_type": "code",
   "execution_count": 17,
   "metadata": {},
   "outputs": [],
   "source": [
    "// export\n",
    "public enum LearnerAction: Error {\n",
    "    case skipEpoch(reason: String)\n",
    "    case skipBatch(reason: String)\n",
    "    case stop(reason: String)\n",
    "}"
   ]
  },
  {
   "cell_type": "code",
   "execution_count": 18,
   "metadata": {},
   "outputs": [],
   "source": [
    "// export\n",
    "/// Initializes and trains a model on a given dataset.\n",
    "public final class Learner<Label: TensorGroup,\n",
    "                           Opt: TensorFlow.Optimizer & AnyObject>\n",
    "    where Opt.Scalar: Differentiable,\n",
    "          Opt.Model: Layer,\n",
    "          // Constrain model input to Tensor<Float>, to work around\n",
    "          // https://forums.fast.ai/t/fix-ad-crash-in-learner/42970.\n",
    "          Opt.Model.Input == Tensor<Float>\n",
    "{\n",
    "    public typealias Model = Opt.Model\n",
    "    public typealias Input = Model.Input\n",
    "    public typealias Output = Model.Output\n",
    "    public typealias Data = DataBunch<DataBatch<Input, Label>>\n",
    "    public typealias Loss = TF\n",
    "    public typealias Optimizer = Opt\n",
    "    public typealias EventHandler = (Learner) throws -> Void\n",
    "    \n",
    "    /// A wrapper class to hold the loss function, to work around\n",
    "    // https://forums.fast.ai/t/fix-ad-crash-in-learner/42970.\n",
    "    public final class LossFunction {\n",
    "        public typealias F = @differentiable (Model.Output, @noDerivative Label) -> Loss\n",
    "        public var f: F\n",
    "        init(_ f: @escaping F) { self.f = f }\n",
    "    }\n",
    "    \n",
    "    public var data: Data\n",
    "    public var opt: Optimizer\n",
    "    public var lossFunc: LossFunction\n",
    "    public var model: Model\n",
    "    \n",
    "    public var currentInput: Input!\n",
    "    public var currentTarget: Label!\n",
    "    public var currentOutput: Output!\n",
    "    \n",
    "    public private(set) var epochCount = 0\n",
    "    public private(set) var currentEpoch = 0\n",
    "    public private(set) var currentGradient = Model.TangentVector.zero\n",
    "    public private(set) var currentLoss = Loss.zero\n",
    "    public private(set) var inTrain = false\n",
    "    public private(set) var pctEpochs = Float.zero\n",
    "    public private(set) var currentIter = 0\n",
    "    public private(set) var iterCount = 0\n",
    "    \n",
    "    open class Delegate {\n",
    "        open var order: Int { return 0 }\n",
    "        public init () {}\n",
    "        \n",
    "        open func trainingWillStart(learner: Learner) throws {}\n",
    "        open func trainingDidFinish(learner: Learner) throws {}\n",
    "        open func epochWillStart(learner: Learner) throws {}\n",
    "        open func epochDidFinish(learner: Learner) throws {}\n",
    "        open func validationWillStart(learner: Learner) throws {}\n",
    "        open func batchWillStart(learner: Learner) throws {}\n",
    "        open func batchDidFinish(learner: Learner) throws {}\n",
    "        open func didProduceNewGradient(learner: Learner) throws {}\n",
    "        open func optimizerDidUpdate(learner: Learner) throws {}\n",
    "        open func batchSkipped(learner: Learner, reason:String) throws {}\n",
    "        open func epochSkipped(learner: Learner, reason:String) throws {}\n",
    "        open func trainingStopped(learner: Learner, reason:String) throws {}\n",
    "        ///\n",
    "        /// TODO: learnerDidProduceNewOutput and learnerDidProduceNewLoss need to\n",
    "        /// be differentiable once we can have the loss function inside the Learner\n",
    "    }\n",
    "    \n",
    "    public var delegates: [Delegate] = [] {\n",
    "        didSet { delegates.sort { $0.order < $1.order } }\n",
    "    }\n",
    "    \n",
    "    public init(data: Data, lossFunc: @escaping LossFunction.F,\n",
    "                optFunc: (Model) -> Optimizer, modelInit: ()->Model) {\n",
    "        (self.data,self.lossFunc) = (data,LossFunction(lossFunc))\n",
    "        model = modelInit()\n",
    "        opt = optFunc(self.model)\n",
    "    }\n",
    "}"
   ]
  },
  {
   "cell_type": "code",
   "execution_count": 19,
   "metadata": {},
   "outputs": [],
   "source": [
    "// export\n",
    "extension Learner {\n",
    "    private func evaluate(onBatch batch: DataBatch<Input, Label>) throws {\n",
    "        currentOutput = model(currentInput)\n",
    "        currentLoss = lossFunc.f(currentOutput, currentTarget)\n",
    "    }\n",
    "    \n",
    "    private func train(onBatch batch: DataBatch<Input, Label>) throws {\n",
    "        let (xb,yb) = (currentInput!,currentTarget!) //We still have to force-unwrap those for AD...\n",
    "        (currentLoss, currentGradient) = valueWithGradient(at: model) { model -> Loss in\n",
    "            let y = model(xb)                                      \n",
    "            self.currentOutput = y\n",
    "            return self.lossFunc.f(y, yb)\n",
    "        }\n",
    "        for d in delegates { try d.didProduceNewGradient(learner: self) }\n",
    "        opt.update(&model, along: self.currentGradient)\n",
    "    }\n",
    "    \n",
    "    private func train(onDataset ds: FADataset<DataBatch<Input, Label>>) throws {\n",
    "        iterCount = ds.count\n",
    "        for batch in ds.ds {\n",
    "            (currentInput, currentTarget) = (batch.xb, batch.yb)\n",
    "            do {\n",
    "                for d in delegates { try d.batchWillStart(learner: self) }\n",
    "                if inTrain { try train(onBatch: batch) } else { try evaluate(onBatch: batch) }\n",
    "            }\n",
    "            catch LearnerAction.skipBatch(let reason) {\n",
    "                for d in delegates {try d.batchSkipped(learner: self, reason:reason)}\n",
    "            }\n",
    "            for d in delegates { try d.batchDidFinish(learner: self) }\n",
    "        }\n",
    "    }\n",
    "}"
   ]
  },
  {
   "cell_type": "code",
   "execution_count": 20,
   "metadata": {},
   "outputs": [],
   "source": [
    "// export\n",
    "extension Learner {\n",
    "    /// Starts fitting.\n",
    "    /// - Parameter epochCount: The number of epochs that will be run.\n",
    "    public func fit(_ epochCount: Int) throws {\n",
    "        self.epochCount = epochCount\n",
    "        do {\n",
    "            for d in delegates { try d.trainingWillStart(learner: self) }\n",
    "            for i in 0..<epochCount {\n",
    "                self.currentEpoch = i\n",
    "                do {\n",
    "                    for d in delegates { try d.epochWillStart(learner: self) }\n",
    "                    try train(onDataset: data.train)\n",
    "                    for d in delegates { try d.validationWillStart(learner: self) }\n",
    "                    try train(onDataset: data.valid)\n",
    "                } catch LearnerAction.skipEpoch(let reason) {\n",
    "                    for d in delegates {try d.epochSkipped(learner: self, reason:reason)}\n",
    "                }\n",
    "                for d in delegates { try d.epochDidFinish(learner: self) }\n",
    "            }\n",
    "        } catch LearnerAction.stop(let reason) {\n",
    "            for d in delegates {try d.trainingStopped(learner: self, reason:reason)}\n",
    "        }\n",
    "\n",
    "        for d in delegates { try d.trainingDidFinish(learner: self) }\n",
    "    }\n",
    "}"
   ]
  },
  {
   "cell_type": "code",
   "execution_count": 21,
   "metadata": {},
   "outputs": [],
   "source": [
    "func optFunc(_ model: BasicModel) ->  SGD<BasicModel> { return SGD(for: model, learningRate: 1e-2)}"
   ]
  },
  {
   "cell_type": "code",
   "execution_count": 22,
   "metadata": {},
   "outputs": [],
   "source": [
    "func modelInit() -> BasicModel {return BasicModel(nIn: m, nHid: nHid, nOut: Int(c))}"
   ]
  },
  {
   "cell_type": "code",
   "execution_count": 23,
   "metadata": {},
   "outputs": [],
   "source": [
    "let learner = Learner(data: data, lossFunc: crossEntropy, optFunc: optFunc, modelInit: modelInit)"
   ]
  },
  {
   "cell_type": "code",
   "execution_count": 24,
   "metadata": {},
   "outputs": [],
   "source": [
    "learner.fit(2)"
   ]
  },
  {
   "cell_type": "code",
   "execution_count": 25,
   "metadata": {},
   "outputs": [],
   "source": [
    "// export\n",
    "public extension Learner {\n",
    "    func addDelegate (_ delegate :  Learner.Delegate ) { delegates.append(delegate) }\n",
    "    func addDelegates(_ delegates: [Learner.Delegate]) { self.delegates += delegates }\n",
    "}"
   ]
  },
  {
   "cell_type": "code",
   "execution_count": 26,
   "metadata": {},
   "outputs": [],
   "source": [
    "// export\n",
    "extension Learner {\n",
    "    public class TrainEvalDelegate: Delegate {\n",
    "        public override func trainingWillStart(learner: Learner) {\n",
    "            learner.pctEpochs = 0.0\n",
    "        }\n",
    "\n",
    "        public override func epochWillStart(learner: Learner) {\n",
    "            Context.local.learningPhase = .training\n",
    "            (learner.pctEpochs,learner.inTrain,learner.currentIter) = (Float(learner.currentEpoch),true,0)\n",
    "        }\n",
    "        \n",
    "        public override func batchDidFinish(learner: Learner) {\n",
    "            learner.currentIter += 1\n",
    "            if learner.inTrain{ learner.pctEpochs += 1.0 / Float(learner.iterCount) }\n",
    "        }\n",
    "        \n",
    "        public override func validationWillStart(learner: Learner) {\n",
    "            Context.local.learningPhase = .inference\n",
    "            learner.inTrain = false\n",
    "            learner.currentIter = 0\n",
    "        }\n",
    "    }\n",
    "    \n",
    "    public func makeTrainEvalDelegate() -> TrainEvalDelegate { return TrainEvalDelegate() }\n",
    "}"
   ]
  },
  {
   "cell_type": "code",
   "execution_count": 27,
   "metadata": {},
   "outputs": [],
   "source": [
    "let learner = Learner(data: data, lossFunc: crossEntropy, optFunc: optFunc, modelInit: modelInit)"
   ]
  },
  {
   "cell_type": "code",
   "execution_count": 28,
   "metadata": {},
   "outputs": [],
   "source": [
    "learner.delegates = [learner.makeTrainEvalDelegate()]"
   ]
  },
  {
   "cell_type": "code",
   "execution_count": 29,
   "metadata": {},
   "outputs": [],
   "source": [
    "learner.fit(2)"
   ]
  },
  {
   "cell_type": "code",
   "execution_count": 30,
   "metadata": {},
   "outputs": [],
   "source": [
    "// export\n",
    "extension Learner {\n",
    "    public class AvgMetric: Delegate {\n",
    "        public let metrics: [(Output, Label) -> TF]\n",
    "        var total: Int = 0\n",
    "        var partials = [TF]()\n",
    "        \n",
    "        public init(metrics: [(Output, Label) -> TF]) { self.metrics = metrics}\n",
    "        \n",
    "        public override func epochWillStart(learner: Learner) {\n",
    "            total = 0\n",
    "            partials = Array(repeating: Tensor(0), count: metrics.count + 1)\n",
    "        }\n",
    "        \n",
    "        public override func batchDidFinish(learner: Learner) {\n",
    "            if !learner.inTrain{\n",
    "                let bs = learner.currentInput!.shape[0] //Possible because Input is TF for now\n",
    "                total += bs\n",
    "                partials[0] += Float(bs) * learner.currentLoss\n",
    "                for i in 1...metrics.count{\n",
    "                    partials[i] += Float(bs) * metrics[i-1](learner.currentOutput!, learner.currentTarget!)\n",
    "                }\n",
    "            }\n",
    "        }\n",
    "        \n",
    "        public override func epochDidFinish(learner: Learner) {\n",
    "            for i in 0...metrics.count {partials[i] = partials[i] / Float(total)}\n",
    "            print(\"Epoch \\(learner.currentEpoch): \\(partials)\")\n",
    "        }\n",
    "    }\n",
    "    \n",
    "    public func makeAvgMetric(metrics: [(Output, Label) -> TF]) -> AvgMetric{\n",
    "        return AvgMetric(metrics: metrics)\n",
    "    }\n",
    "}"
   ]
  },
  {
   "cell_type": "code",
   "execution_count": 31,
   "metadata": {},
   "outputs": [],
   "source": [
    "let learner = Learner(data: data, lossFunc: crossEntropy, optFunc: optFunc, modelInit: modelInit)"
   ]
  },
  {
   "cell_type": "code",
   "execution_count": 32,
   "metadata": {},
   "outputs": [],
   "source": [
    "learner.delegates = [learner.makeTrainEvalDelegate(), learner.makeAvgMetric(metrics: [accuracy])]"
   ]
  },
  {
   "cell_type": "code",
   "execution_count": 33,
   "metadata": {},
   "outputs": [
    {
     "name": "stdout",
     "output_type": "stream",
     "text": [
      "Epoch 0: [0.51696545, 0.8746]\n",
      "Epoch 1: [0.3791769, 0.8993]\n"
     ]
    }
   ],
   "source": [
    "learner.fit(2)"
   ]
  },
  {
   "cell_type": "code",
   "execution_count": 34,
   "metadata": {},
   "outputs": [],
   "source": [
    "// export\n",
    "extension Learner {\n",
    "    public class Normalize: Delegate {\n",
    "        public let mean, std: TF\n",
    "        public init(mean: TF, std: TF) { (self.mean,self.std) = (mean,std) }\n",
    "        \n",
    "        public override func batchWillStart(learner: Learner) {\n",
    "            learner.currentInput = (learner.currentInput! - mean) / std\n",
    "        }\n",
    "    }\n",
    "    \n",
    "    public func makeNormalize(mean: TF, std: TF) -> Normalize{\n",
    "        return Normalize(mean: mean, std: std)\n",
    "    }\n",
    "}"
   ]
  },
  {
   "cell_type": "code",
   "execution_count": 35,
   "metadata": {},
   "outputs": [
    {
     "data": {
      "text/plain": [
       "▿ 2 elements\n",
       "  - mean : 0.13066047\n",
       "  - std : 0.3081079\n"
      ]
     },
     "execution_count": 35,
     "metadata": {},
     "output_type": "execute_result"
    }
   ],
   "source": [
    "(mean: xTrain.mean(), std: xTrain.standardDeviation())"
   ]
  },
  {
   "cell_type": "code",
   "execution_count": 36,
   "metadata": {},
   "outputs": [],
   "source": [
    "// export\n",
    "public let mnistStats = (mean: TF(0.13066047), std: TF(0.3081079))"
   ]
  },
  {
   "cell_type": "code",
   "execution_count": 37,
   "metadata": {},
   "outputs": [],
   "source": [
    "let learner = Learner(data: data, lossFunc: crossEntropy, optFunc: optFunc, modelInit: modelInit)"
   ]
  },
  {
   "cell_type": "code",
   "execution_count": 38,
   "metadata": {},
   "outputs": [],
   "source": [
    "learner.delegates = [learner.makeTrainEvalDelegate(), learner.makeAvgMetric(metrics: [accuracy]),\n",
    "                     learner.makeNormalize(mean: mnistStats.mean, std: mnistStats.std)]"
   ]
  },
  {
   "cell_type": "code",
   "execution_count": 39,
   "metadata": {},
   "outputs": [
    {
     "name": "stdout",
     "output_type": "stream",
     "text": [
      "Epoch 0: [0.30285794, 0.9151]\n",
      "Epoch 1: [0.25142914, 0.9281]\n"
     ]
    }
   ],
   "source": [
    "learner.fit(2)"
   ]
  },
  {
   "cell_type": "code",
   "execution_count": 40,
   "metadata": {},
   "outputs": [
    {
     "name": "stdout",
     "output_type": "stream",
     "text": [
      "success\r\n"
     ]
    }
   ],
   "source": [
    "import NotebookExport\n",
    "let exporter = NotebookExport(Path.cwd/\"04_callbacks.ipynb\")\n",
    "print(exporter.export(usingPrefix: \"FastaiNotebook_\"))"
   ]
  },
  {
   "cell_type": "code",
   "execution_count": null,
   "metadata": {},
   "outputs": [],
   "source": []
  }
 ],
 "metadata": {
  "kernelspec": {
   "display_name": "Swift",
   "language": "swift",
   "name": "swift"
  },
  "language_info": {
   "file_extension": ".swift",
   "mimetype": "text/x-swift",
   "name": "swift",
   "version": ""
  }
 },
 "nbformat": 4,
 "nbformat_minor": 2
}

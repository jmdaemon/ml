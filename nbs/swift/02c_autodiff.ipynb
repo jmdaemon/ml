{
 "cells": [
  {
   "cell_type": "code",
   "execution_count": 1,
   "metadata": {},
   "outputs": [],
   "source": [
    "func square(_ x: Float) -> Float {\n",
    "    return x * x\n",
    "}\n",
    "\n",
    "func square_derivative(_ x: Float) -> Float {\n",
    "    return 2 * x\n",
    "}"
   ]
  },
  {
   "cell_type": "code",
   "execution_count": 2,
   "metadata": {},
   "outputs": [],
   "source": [
    "import Glibc\n",
    "\n",
    "func exampleFunction(_ x: Float) -> Float {\n",
    "    return sin(x * x)\n",
    "}\n",
    "\n",
    "func exampleFunctionDerivative(_ x: Float) -> Float {\n",
    "    return 2 * x * cos(x * x)\n",
    "}"
   ]
  },
  {
   "cell_type": "code",
   "execution_count": 3,
   "metadata": {},
   "outputs": [],
   "source": [
    "func exampleFunctionDerivativeEfficient(_ x: Float) -> (value: Float, backward: () -> Float) {\n",
    "    let xSquared = x * x\n",
    "    let value = sin(xSquared)\n",
    "    let backward = {2 * x * cos(xSquared)}  // A closure that captures xSquared\n",
    "    return (value: value, backward: backward)\n",
    "}"
   ]
  },
  {
   "cell_type": "code",
   "execution_count": 4,
   "metadata": {},
   "outputs": [],
   "source": [
    "func exampleFunctionValueWithDeriv(_ x: Float) -> (value: Float, deriv: (Float) -> Float) {\n",
    "    let xSquared = x * x\n",
    "    let value = sin(xSquared)\n",
    "    let deriv = { (v: Float) -> Float in\n",
    "        let gradXSquared = v * cos(xSquared)\n",
    "        let gradX = gradXSquared * 2 * x\n",
    "        return gradX\n",
    "    }\n",
    "    return (value: value, deriv: deriv)\n",
    "}"
   ]
  },
  {
   "cell_type": "code",
   "execution_count": 5,
   "metadata": {},
   "outputs": [],
   "source": [
    "func sinValueWithDeriv(_ x: Float) -> (value: Float, deriv: (Float) -> Float) {\n",
    "    return (value: sin(x), deriv: {v in cos(x) * v})\n",
    "}\n",
    "\n",
    "func squareValueWithDeriv(_ x: Float) -> (value: Float, deriv: (Float) -> Float) {\n",
    "    return (value: x * x, deriv: {v in 2 * x * v})\n",
    "}\n",
    "\n",
    "func exampleFunctionWithDeriv(_ x: Float) -> (value: Float, deriv: (Float) -> Float) {\n",
    "    let (xSquared, deriv1) = squareValueWithDeriv(x)\n",
    "    let (value, deriv2) = sinValueWithDeriv(xSquared)\n",
    "    return (value: value, deriv: { v in\n",
    "        let gradXSquared = deriv2(v)\n",
    "        let gradX = deriv1(gradXSquared)\n",
    "        return gradX\n",
    "    })\n",
    "}"
   ]
  },
  {
   "cell_type": "code",
   "execution_count": 6,
   "metadata": {},
   "outputs": [],
   "source": [
    "func myComplexFunction(_ x: Float) -> Float {\n",
    "    let tmp1 = square(x)\n",
    "    let tmp2 = sin(tmp1)\n",
    "    let tmp3 = tmp2 + tmp1\n",
    "    return tmp3\n",
    "}\n",
    "\n",
    "func plusWithDeriv(_ x: Float, _ y: Float) -> (value: Float, deriv: (Float) -> (Float, Float)) {\n",
    "    return (value: x + y, deriv: {v in (v, v)})  // Value semantics are great! :-)\n",
    "}"
   ]
  },
  {
   "cell_type": "code",
   "execution_count": 7,
   "metadata": {},
   "outputs": [],
   "source": [
    "func myComplexFunctionValueWithDeriv(_ x: Float) -> (value: Float, deriv: (Float) -> Float) {\n",
    "    let (tmp1, pb1) = squareValueWithDeriv(x)\n",
    "    let (tmp2, pb2) = sinValueWithDeriv(tmp1)\n",
    "    let (tmp3, pb3) = plusWithDeriv(tmp2, tmp1)\n",
    "    return (value: tmp3,\n",
    "            deriv: { v in\n",
    "        // Initialize the gradients for all values at zero.\n",
    "        var gradX = Float(0.0)\n",
    "        var grad1 = Float(0.0)\n",
    "        var grad2 = Float(0.0)\n",
    "        var grad3 = Float(0.0)\n",
    "        // Add the temporaries to the gradients as we run the backwards pass.\n",
    "        grad3 += v\n",
    "        let (tmp2, tmp1b) = pb3(grad3)\n",
    "        grad2 += tmp2\n",
    "        grad1 += tmp1b\n",
    "        let tmp1a = pb2(grad2)\n",
    "        grad1 += tmp1a\n",
    "        let tmpX = pb1(grad1)\n",
    "        gradX += tmpX\n",
    "        // Return the computed gradients.\n",
    "        return gradX\n",
    "    })\n",
    "}"
   ]
  },
  {
   "cell_type": "code",
   "execution_count": 8,
   "metadata": {},
   "outputs": [],
   "source": [
    "// Helper method\n",
    "func square(_ x: Float) -> Float {\n",
    "    return x * x\n",
    "}"
   ]
  },
  {
   "cell_type": "code",
   "execution_count": 9,
   "metadata": {},
   "outputs": [],
   "source": [
    "@differentiable\n",
    "func myFunction(_ x: Float) -> Float {\n",
    "    return x * x\n",
    "}"
   ]
  },
  {
   "cell_type": "code",
   "execution_count": 10,
   "metadata": {},
   "outputs": [
    {
     "name": "stdout",
     "output_type": "stream",
     "text": [
      "9.0\r\n",
      "(Float) -> Float\r\n"
     ]
    }
   ],
   "source": [
    "let (value, deriv) = valueWithPullback(at: 3, in: myFunction)\n",
    "print(value)\n",
    "print(type(of: deriv))"
   ]
  },
  {
   "cell_type": "code",
   "execution_count": 11,
   "metadata": {},
   "outputs": [
    {
     "data": {
      "text/plain": [
       "6.0\n"
      ]
     },
     "execution_count": 11,
     "metadata": {},
     "output_type": "execute_result"
    }
   ],
   "source": [
    "deriv(1)"
   ]
  },
  {
   "cell_type": "code",
   "execution_count": null,
   "metadata": {},
   "outputs": [],
   "source": []
  }
 ],
 "metadata": {
  "kernelspec": {
   "display_name": "Swift",
   "language": "swift",
   "name": "swift"
  },
  "language_info": {
   "file_extension": ".swift",
   "mimetype": "text/x-swift",
   "name": "swift",
   "version": ""
  }
 },
 "nbformat": 4,
 "nbformat_minor": 2
}

{
 "cells": [
  {
   "cell_type": "code",
   "execution_count": 1,
   "metadata": {},
   "outputs": [
    {
     "name": "stdout",
     "output_type": "stream",
     "text": [
      "Installing packages:\n",
      "\t.package(path: \"/home/jmd/workspace/ml/fastai/nbs/swift/FastaiNotebook_02a_why_sqrt5\")\n",
      "\t\tFastaiNotebook_02a_why_sqrt5\n",
      "With SwiftPM flags: []\n",
      "Working in: /tmp/tmpyu23sqa8/swift-install\n",
      "/home/jmd/swift/usr/bin/swift-build: /home/jmd/anaconda3/lib/libcurl.so.4: no version information available (required by /home/jmd/swift/usr/lib/swift/linux/libFoundationNetworking.so)\n",
      "[1/2] Compiling jupyterInstalledPackages jupyterInstalledPackages.swift\n",
      "[2/3] Merging module jupyterInstalledPackages\n",
      "Initializing Swift...\n",
      "Installation complete!\n"
     ]
    }
   ],
   "source": [
    "%install-location $cwd/swift-install\n",
    "%install '.package(path: \"$cwd/FastaiNotebook_02a_why_sqrt5\")' FastaiNotebook_02a_why_sqrt5"
   ]
  },
  {
   "cell_type": "code",
   "execution_count": 2,
   "metadata": {},
   "outputs": [],
   "source": [
    "//export\n",
    "import Path\n",
    "import TensorFlow"
   ]
  },
  {
   "cell_type": "code",
   "execution_count": 3,
   "metadata": {},
   "outputs": [],
   "source": [
    "import FastaiNotebook_02a_why_sqrt5"
   ]
  },
  {
   "cell_type": "code",
   "execution_count": 4,
   "metadata": {},
   "outputs": [],
   "source": [
    "var x = TF(randomNormal: [512, 1])\n",
    "let a = TF(randomNormal: [512,512])"
   ]
  },
  {
   "cell_type": "code",
   "execution_count": 5,
   "metadata": {},
   "outputs": [],
   "source": [
    "for i in 0..<100 { x = a • x }"
   ]
  },
  {
   "cell_type": "code",
   "execution_count": 6,
   "metadata": {},
   "outputs": [
    {
     "data": {
      "text/plain": [
       "▿ 2 elements\n",
       "  - .0 : nan(0x1fffff)\n",
       "  - .1 : nan(0x1fffff)\n"
      ]
     },
     "execution_count": 6,
     "metadata": {},
     "output_type": "execute_result"
    }
   ],
   "source": [
    "(x.mean(),x.standardDeviation())"
   ]
  },
  {
   "cell_type": "code",
   "execution_count": 7,
   "metadata": {},
   "outputs": [],
   "source": [
    "var x = TF(randomNormal: [512, 1])\n",
    "let a = TF(randomNormal: [512,512])"
   ]
  },
  {
   "cell_type": "code",
   "execution_count": 8,
   "metadata": {},
   "outputs": [
    {
     "name": "stdout",
     "output_type": "stream",
     "text": [
      "27\r\n"
     ]
    }
   ],
   "source": [
    "for i in 0..<100 {\n",
    "    x = a • x\n",
    "    if x.standardDeviation().scalarized().isNaN {\n",
    "        print(i)\n",
    "        break\n",
    "    }\n",
    "}"
   ]
  },
  {
   "cell_type": "code",
   "execution_count": 9,
   "metadata": {},
   "outputs": [],
   "source": [
    "var x = TF(randomNormal: [512, 1])\n",
    "let a = TF(randomNormal: [512,512]) * 0.01"
   ]
  },
  {
   "cell_type": "code",
   "execution_count": 10,
   "metadata": {},
   "outputs": [],
   "source": [
    "for i in 0..<100 { x = a • x }"
   ]
  },
  {
   "cell_type": "code",
   "execution_count": 11,
   "metadata": {},
   "outputs": [
    {
     "data": {
      "text/plain": [
       "▿ 2 elements\n",
       "  - .0 : 0.0\n",
       "  - .1 : 0.0\n"
      ]
     },
     "execution_count": 11,
     "metadata": {},
     "output_type": "execute_result"
    }
   ],
   "source": [
    "(x.mean(), x.standardDeviation())"
   ]
  },
  {
   "cell_type": "code",
   "execution_count": 12,
   "metadata": {},
   "outputs": [],
   "source": [
    "var x = TF(randomNormal: [512, 1])\n",
    "let a = TF(randomNormal: [512,512]) / sqrt(512)"
   ]
  },
  {
   "cell_type": "code",
   "execution_count": 13,
   "metadata": {},
   "outputs": [],
   "source": [
    "for i in 0..<100 { x = a • x }"
   ]
  },
  {
   "cell_type": "code",
   "execution_count": 15,
   "metadata": {},
   "outputs": [
    {
     "data": {
      "text/plain": [
       "▿ 2 elements\n",
       "  - mean : 0.030534575\n",
       "  - std : 0.6847703\n"
      ]
     },
     "execution_count": 15,
     "metadata": {},
     "output_type": "execute_result"
    }
   ],
   "source": [
    "(mean: x.mean(), std: x.standardDeviation())"
   ]
  },
  {
   "cell_type": "code",
   "execution_count": 16,
   "metadata": {},
   "outputs": [
    {
     "data": {
      "text/plain": [
       "0.044194173824159216\n"
      ]
     },
     "execution_count": 16,
     "metadata": {},
     "output_type": "execute_result"
    }
   ],
   "source": [
    "1 / sqrt(512)"
   ]
  },
  {
   "cell_type": "code",
   "execution_count": 18,
   "metadata": {},
   "outputs": [
    {
     "data": {
      "text/plain": [
       "▿ 2 elements\n",
       "  - mean : 0.04064293\n",
       "  - std : 0.9808526\n"
      ]
     },
     "execution_count": 18,
     "metadata": {},
     "output_type": "execute_result"
    }
   ],
   "source": [
    "var x = TF(randomNormal: [512, 1])\n",
    "(mean: x.mean(), std: x.standardDeviation())"
   ]
  },
  {
   "cell_type": "code",
   "execution_count": 19,
   "metadata": {},
   "outputs": [
    {
     "data": {
      "text/plain": [
       "▿ 2 elements\n",
       "  - .0 : 0.029920671\n",
       "  - .1 : 511.28195\n"
      ]
     },
     "execution_count": 19,
     "metadata": {},
     "output_type": "execute_result"
    }
   ],
   "source": [
    "var mean = Float()\n",
    "var sqr = Float()\n",
    "for i in 0..<100 {\n",
    "    let x = TF(randomNormal: [512, 1])\n",
    "    let a = TF(randomNormal: [512, 512])\n",
    "    let y = a • x\n",
    "    mean += y.mean().scalarized()\n",
    "    sqr  += pow(y, 2).mean().scalarized()\n",
    "}\n",
    "(mean/100, sqr/100)"
   ]
  },
  {
   "cell_type": "code",
   "execution_count": 20,
   "metadata": {},
   "outputs": [
    {
     "data": {
      "text/plain": [
       "▿ 2 elements\n",
       "  - .0 : 0.017524475\n",
       "  - .1 : 1.0256138\n"
      ]
     },
     "execution_count": 20,
     "metadata": {},
     "output_type": "execute_result"
    }
   ],
   "source": [
    "var mean = Float()\n",
    "var sqr = Float()\n",
    "for i in 0..<10000 {\n",
    "    let x = TF(randomNormal: [])\n",
    "    let a = TF(randomNormal: [])\n",
    "    let y = a * x\n",
    "    mean += y.scalarized()\n",
    "    sqr  += pow(y, 2).scalarized()\n",
    "}\n",
    "(mean/10000,sqrt(sqr/10000))"
   ]
  },
  {
   "cell_type": "code",
   "execution_count": 21,
   "metadata": {},
   "outputs": [
    {
     "data": {
      "text/plain": [
       "▿ 2 elements\n",
       "  - mean : 0.31539235\n",
       "  - sqrt : 0.49972787\n"
      ]
     },
     "execution_count": 21,
     "metadata": {},
     "output_type": "execute_result"
    }
   ],
   "source": [
    "var mean = Float()\n",
    "var sqr = Float()\n",
    "for i in 0..<10000 {\n",
    "    let x = TF(randomNormal: [])\n",
    "    let a = TF(randomNormal: [])\n",
    "    var y = (a*x).scalarized()\n",
    "    y = y < 0 ? 0 : y\n",
    "    mean += y\n",
    "    sqr  += pow(y, 2)\n",
    "}\n",
    "(mean: mean/10000, sqrt: sqr/10000)"
   ]
  },
  {
   "cell_type": "code",
   "execution_count": 22,
   "metadata": {},
   "outputs": [
    {
     "data": {
      "text/plain": [
       "▿ 2 elements\n",
       "  - mean : 8.9702835\n",
       "  - sqrt : 254.64552\n"
      ]
     },
     "execution_count": 22,
     "metadata": {},
     "output_type": "execute_result"
    }
   ],
   "source": [
    "var mean = Float()\n",
    "var sqr = Float()\n",
    "for i in 0..<100 {\n",
    "    let x = TF(randomNormal: [512, 1])\n",
    "    let a = TF(randomNormal: [512, 512])\n",
    "    var y = a • x\n",
    "    y = max(y, TF(zeros: y.shape))\n",
    "    mean += y.mean().scalarized()\n",
    "    sqr  += pow(y, 2).mean().scalarized()\n",
    "}\n",
    "(mean: mean/100, sqrt: sqr/100)"
   ]
  },
  {
   "cell_type": "code",
   "execution_count": 23,
   "metadata": {},
   "outputs": [
    {
     "data": {
      "text/plain": [
       "▿ 2 elements\n",
       "  - mean : 0.56369936\n",
       "  - sqrt : 0.99530965\n"
      ]
     },
     "execution_count": 23,
     "metadata": {},
     "output_type": "execute_result"
    }
   ],
   "source": [
    "var mean = Float()\n",
    "var sqr = Float()\n",
    "for i in 0..<100 {\n",
    "    let x = TF(randomNormal: [512, 1])\n",
    "    let a = TF(randomNormal: [512, 512]) * sqrt(2/512)\n",
    "    var y = a • x\n",
    "    y = max(y, TF(zeros: y.shape))\n",
    "    mean += y.mean().scalarized()\n",
    "    sqr  += pow(y, 2).mean().scalarized()\n",
    "}\n",
    "(mean: mean/100, sqrt: sqr/100)"
   ]
  },
  {
   "cell_type": "code",
   "execution_count": null,
   "metadata": {},
   "outputs": [],
   "source": []
  }
 ],
 "metadata": {
  "kernelspec": {
   "display_name": "Swift",
   "language": "swift",
   "name": "swift"
  },
  "language_info": {
   "file_extension": ".swift",
   "mimetype": "text/x-swift",
   "name": "swift",
   "version": ""
  }
 },
 "nbformat": 4,
 "nbformat_minor": 2
}

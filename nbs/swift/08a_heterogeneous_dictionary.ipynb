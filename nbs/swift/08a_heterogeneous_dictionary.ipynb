{
 "cells": [
  {
   "cell_type": "code",
   "execution_count": 1,
   "metadata": {},
   "outputs": [
    {
     "name": "stdout",
     "output_type": "stream",
     "text": [
      "Installing packages:\n",
      "\t.package(path: \"/home/jmd/workspace/ml/fastai/nbs/swift/FastaiNotebook_08_data_block\")\n",
      "\t\tFastaiNotebook_08_data_block\n",
      "With SwiftPM flags: []\n",
      "Working in: /tmp/tmpz6o4jpmu/swift-install\n",
      "/home/jmd/swift/usr/bin/swift-build: /home/jmd/anaconda3/lib/libcurl.so.4: no version information available (required by /home/jmd/swift/usr/lib/swift/linux/libFoundationNetworking.so)\n",
      "Fetching https://github.com/saeta/Just\n",
      "Fetching https://github.com/latenitesoft/NotebookExport\n",
      "Fetching https://github.com/mxcl/Path.swift\n",
      "Cloning https://github.com/saeta/Just\n",
      "Resolving https://github.com/saeta/Just at 0.7.3\n",
      "Cloning https://github.com/latenitesoft/NotebookExport\n",
      "Resolving https://github.com/latenitesoft/NotebookExport at 0.6.0\n",
      "Cloning https://github.com/mxcl/Path.swift\n",
      "Resolving https://github.com/mxcl/Path.swift at 0.16.3\n",
      "[1/27] Compiling Path Path+StringConvertibles.swift\n",
      "[2/27] Compiling Path Path+ls.swift\n",
      "[3/27] Compiling Path Path+CommonDirectories.swift\n",
      "[4/27] Compiling Path Path+FileManager.swift\n",
      "[5/27] Compiling Path Extensions.swift\n",
      "[6/27] Compiling Path Path+Attributes.swift\n",
      "[7/27] Compiling Path Path+Codable.swift\n",
      "[9/28] Compiling Path Path->Bool.swift\n",
      "[10/28] Compiling Path Path.swift\n",
      "[11/29] Merging module Just\n",
      "[12/28] Merging module Path\n",
      "[13/31] Compiling NotebookExport PackageManifest.swift\n",
      "[14/31] Compiling NotebookExport ExtensionUtils.swift\n",
      "[15/31] Compiling NotebookExport DependencyDescription.swift\n",
      "[16/31] Compiling NotebookExport NotebookExport.swift\n",
      "[17/32] Merging module NotebookExport\n",
      "[18/20] Compiling jupyterInstalledPackages jupyterInstalledPackages.swift\n",
      "[19/21] Merging module jupyterInstalledPackages\n",
      "[20/20] Linking libjupyterInstalledPackages.so\n",
      "Initializing Swift...\n",
      "Installation complete!\n"
     ]
    }
   ],
   "source": [
    "%install-location $cwd/swift-install\n",
    "%install '.package(path: \"$cwd/FastaiNotebook_08_data_block\")' FastaiNotebook_08_data_block"
   ]
  },
  {
   "cell_type": "code",
   "execution_count": 2,
   "metadata": {},
   "outputs": [],
   "source": [
    "//export\n",
    "import Path"
   ]
  },
  {
   "cell_type": "code",
   "execution_count": 3,
   "metadata": {},
   "outputs": [],
   "source": [
    "import FastaiNotebook_08_data_block"
   ]
  },
  {
   "cell_type": "code",
   "execution_count": 4,
   "metadata": {},
   "outputs": [],
   "source": [
    "// export\n",
    "public protocol HetDictKey {\n",
    "    associatedtype ValueType\n",
    "    static var defaultValue: ValueType { get }\n",
    "}"
   ]
  },
  {
   "cell_type": "code",
   "execution_count": 5,
   "metadata": {},
   "outputs": [],
   "source": [
    "// export\n",
    "\n",
    "public struct HeterogeneousDictionary {\n",
    "    private var underlying: [ObjectIdentifier : Any] = [:]\n",
    "    \n",
    "    public init() {}\n",
    "    public init<T: HetDictKey>(_ key: T.Type, _ value: T.ValueType) {\n",
    "        self.underlying = [ObjectIdentifier(key): value]\n",
    "    }\n",
    "    public init<T1: HetDictKey, T2: HetDictKey>(_ key1: T1.Type, _ value1: T1.ValueType, _ key2: T2.Type, _ value2: T2.ValueType) {\n",
    "        self.underlying = [ObjectIdentifier(key1): value1, ObjectIdentifier(key2): value2]\n",
    "    }\n",
    "\n",
    "    public subscript<T: HetDictKey>(key: T.Type) -> T.ValueType {\n",
    "        get { return underlying[ObjectIdentifier(key), default: T.defaultValue] as! T.ValueType }\n",
    "        set { underlying[ObjectIdentifier(key)] = newValue as Any }\n",
    "    }\n",
    "    \n",
    "    public mutating func merge(_ other: HeterogeneousDictionary,\n",
    "        uniquingKeysWith combine: (Any, Any) throws -> Any) rethrows {\n",
    "        try self.underlying.merge(other.underlying, uniquingKeysWith: combine)\n",
    "    }\n",
    "}\n"
   ]
  },
  {
   "cell_type": "code",
   "execution_count": 6,
   "metadata": {},
   "outputs": [],
   "source": [
    "// export\n",
    "// Common keys\n",
    "public struct LearningRate: HetDictKey {\n",
    "    public static var defaultValue: Float = 0.4\n",
    "}"
   ]
  },
  {
   "cell_type": "code",
   "execution_count": 7,
   "metadata": {},
   "outputs": [],
   "source": [
    "public struct StepCount: HetDictKey {\n",
    "    public static var defaultValue = 0\n",
    "}"
   ]
  },
  {
   "cell_type": "code",
   "execution_count": 8,
   "metadata": {},
   "outputs": [],
   "source": [
    "// Sample usage\n",
    "var m = HeterogeneousDictionary()\n"
   ]
  },
  {
   "cell_type": "code",
   "execution_count": 9,
   "metadata": {},
   "outputs": [
    {
     "name": "stdout",
     "output_type": "stream",
     "text": [
      "0.4\r\n",
      "3.4\r\n",
      "0\r\n",
      "3\r\n"
     ]
    }
   ],
   "source": [
    "print(m[LearningRate.self])\n",
    "m[LearningRate.self] = 3.4\n",
    "print(m[LearningRate.self])\n",
    "\n",
    "print(m[StepCount.self])\n",
    "m[StepCount.self] = 3\n",
    "print(m[StepCount.self])\n"
   ]
  },
  {
   "cell_type": "code",
   "execution_count": 10,
   "metadata": {},
   "outputs": [
    {
     "name": "stdout",
     "output_type": "stream",
     "text": [
      "Int\r\n",
      "Float\r\n"
     ]
    }
   ],
   "source": [
    "print(type(of: m[StepCount.self]))\n",
    "print(type(of: m[LearningRate.self]))\n"
   ]
  },
  {
   "cell_type": "code",
   "execution_count": 11,
   "metadata": {},
   "outputs": [
    {
     "name": "stdout",
     "output_type": "stream",
     "text": [
      "success\r\n"
     ]
    }
   ],
   "source": [
    "import NotebookExport\n",
    "let exporter = NotebookExport(Path.cwd/\"08a_heterogeneous_dictionary.ipynb\")\n",
    "print(exporter.export(usingPrefix: \"FastaiNotebook_\"))"
   ]
  },
  {
   "cell_type": "code",
   "execution_count": null,
   "metadata": {},
   "outputs": [],
   "source": []
  }
 ],
 "metadata": {
  "kernelspec": {
   "display_name": "Swift",
   "language": "swift",
   "name": "swift"
  },
  "language_info": {
   "file_extension": ".swift",
   "mimetype": "text/x-swift",
   "name": "swift",
   "version": ""
  }
 },
 "nbformat": 4,
 "nbformat_minor": 2
}

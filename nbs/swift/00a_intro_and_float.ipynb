{
 "cells": [
  {
   "cell_type": "code",
   "execution_count": 1,
   "metadata": {},
   "outputs": [
    {
     "name": "stdout",
     "output_type": "stream",
     "text": [
      "Installing packages:\n",
      "\t.package(path: \"/home/jmd/workspace/ml/fastai/nbs/swift/FastaiNotebook_00_load_data\")\n",
      "\t\tFastaiNotebook_00_load_data\n",
      "With SwiftPM flags: []\n",
      "Working in: /tmp/tmpyig2rqi8/swift-install\n",
      "/home/jmd/swift/usr/bin/swift-build: /home/jmd/anaconda3/lib/libcurl.so.4: no version information available (required by /home/jmd/swift/usr/lib/swift/linux/libFoundationNetworking.so)\n",
      "[1/2] Compiling jupyterInstalledPackages jupyterInstalledPackages.swift\n",
      "[2/3] Merging module jupyterInstalledPackages\n",
      "Initializing Swift...\n",
      "Installation complete!\n"
     ]
    }
   ],
   "source": [
    "%install-location $cwd/swift-install\n",
    "%install '.package(path: \"$cwd/FastaiNotebook_00_load_data\")' FastaiNotebook_00_load_data"
   ]
  },
  {
   "cell_type": "code",
   "execution_count": 2,
   "metadata": {},
   "outputs": [],
   "source": [
    "import FastaiNotebook_00_load_data"
   ]
  },
  {
   "cell_type": "code",
   "execution_count": 3,
   "metadata": {},
   "outputs": [
    {
     "name": "stdout",
     "output_type": "stream",
     "text": [
      "some integers: 6 25\r\n"
     ]
    }
   ],
   "source": [
    "// These are integers\n",
    "let batchSize = 6\n",
    "var b = 1 + (4 * batchSize)\n",
    "print(\"some integers:\", batchSize, b)"
   ]
  },
  {
   "cell_type": "code",
   "execution_count": 4,
   "metadata": {},
   "outputs": [
    {
     "name": "stdout",
     "output_type": "stream",
     "text": [
      "some floats:  3.1 3.1415925\r\n"
     ]
    }
   ],
   "source": [
    "// These are floating point values\n",
    "var myPi = 3.1\n",
    "let π    = Float.pi\n",
    "print(\"some floats: \", myPi, π)"
   ]
  },
  {
   "cell_type": "code",
   "execution_count": 5,
   "metadata": {},
   "outputs": [
    {
     "ename": "",
     "evalue": "",
     "output_type": "error",
     "traceback": [
      "error: <Cell 5>:1:1: error: cannot assign to value: 'batchSize' is a 'let' constant\nbatchSize = 8\n^~~~~~~~~\n\n"
     ]
    }
   ],
   "source": [
    "batchSize = 8"
   ]
  },
  {
   "cell_type": "code",
   "execution_count": 6,
   "metadata": {},
   "outputs": [
    {
     "name": "stdout",
     "output_type": "stream",
     "text": [
      "dog poo\r\n",
      "some types:  Float String\r\n"
     ]
    }
   ],
   "source": [
    "// Type inference would produce an integer, but we make this be a float.\n",
    "var someFloat : Float = 1 + 4*9\n",
    "\n",
    "// Jeremy might not like greek letters, but he surely loves emoji 😬\n",
    "var 🐶💩 = \"dog poo\"\n",
    "print(🐶💩)\n",
    "\n",
    "\n",
    "// This is the equivalent of the Python 'type' operator.\n",
    "print(\"some types: \", type(of: someFloat), type(of: 🐶💩))"
   ]
  },
  {
   "cell_type": "code",
   "execution_count": 7,
   "metadata": {},
   "outputs": [
    {
     "data": {
      "text/plain": [
       "2.236068\n"
      ]
     },
     "execution_count": 7,
     "metadata": {},
     "output_type": "execute_result"
    }
   ],
   "source": [
    "func distance(x: Float, y: Float) -> Float {\n",
    "    return sqrt(x*x+y*y)\n",
    "}\n",
    "\n",
    "// Functions default to having argument labels:\n",
    "distance(x: 1.0, y: 2.0)"
   ]
  },
  {
   "cell_type": "code",
   "execution_count": 8,
   "metadata": {},
   "outputs": [
    {
     "data": {
      "text/plain": [
       "▿ 2 elements\n",
       "  - .0 : -3.019916e-07\n",
       "  - .1 : 1.0\n"
      ]
     },
     "execution_count": 8,
     "metadata": {},
     "output_type": "execute_result"
    }
   ],
   "source": [
    "func sincos(_ value: Float) -> (Float, Float) {\n",
    "    return (sin(value), cos(value))\n",
    "}\n",
    "\n",
    "sincos(2*π)"
   ]
  },
  {
   "cell_type": "code",
   "execution_count": 9,
   "metadata": {},
   "outputs": [
    {
     "data": {
      "text/plain": [
       "-1.3165069\n"
      ]
     },
     "execution_count": 9,
     "metadata": {},
     "output_type": "execute_result"
    }
   ],
   "source": [
    "let (s, c) = sincos(42)\n",
    "s + c"
   ]
  },
  {
   "cell_type": "code",
   "execution_count": 10,
   "metadata": {},
   "outputs": [
    {
     "data": {
      "text/plain": [
       "0.8090276\n"
      ]
     },
     "execution_count": 10,
     "metadata": {},
     "output_type": "execute_result"
    }
   ],
   "source": [
    "let tupleValue = sincos(213)\n",
    "tupleValue.1"
   ]
  },
  {
   "cell_type": "code",
   "execution_count": 11,
   "metadata": {},
   "outputs": [
    {
     "name": "stdout",
     "output_type": "stream",
     "text": [
      "ComplexF(real: 1.0, imag: 12.0)\r\n"
     ]
    }
   ],
   "source": [
    "struct ComplexF {\n",
    "    var real, imag : Float\n",
    "}\n",
    "\n",
    "var someComplex = ComplexF(real: 1.0, imag: 12.0)\n",
    "print(someComplex)"
   ]
  },
  {
   "cell_type": "code",
   "execution_count": 12,
   "metadata": {},
   "outputs": [],
   "source": [
    "struct Complex<T : SignedNumeric> {\n",
    "    var real, imag: T\n",
    "    \n",
    "    // This is a read only computed property.\n",
    "    var conj : Complex { return Complex(real: real, imag: -imag)}\n",
    "    \n",
    "    // Here's a computed propety with a setter, that returns the imaginary\n",
    "    // comonent negated, just to show how to do this. A more realistic\n",
    "    // use case would be to provide a polar coordinate projection.\n",
    "    var imagNegated : T {\n",
    "        get { return -imag }\n",
    "        set { imag = -newValue }\n",
    "    }\n",
    "}"
   ]
  },
  {
   "cell_type": "code",
   "execution_count": 13,
   "metadata": {},
   "outputs": [
    {
     "name": "stdout",
     "output_type": "stream",
     "text": [
      "Complex<Int>(real: 1, imag: 12)\r\n",
      "Complex<Float>(real: 1.0, imag: 3.1415925)\r\n"
     ]
    }
   ],
   "source": [
    "var complexInt = Complex(real: 1, imag: 12)\n",
    "var complexDouble = Complex(real: 1.0, imag: π)\n",
    "print(complexInt, complexDouble, separator: \"\\n\")"
   ]
  },
  {
   "cell_type": "code",
   "execution_count": 14,
   "metadata": {},
   "outputs": [
    {
     "name": "stdout",
     "output_type": "stream",
     "text": [
      "Conj:      Complex<Int>(real: 1, imag: -12)\r\n"
     ]
    }
   ],
   "source": [
    "print(\"Conj:     \", complexInt.conj)"
   ]
  },
  {
   "cell_type": "code",
   "execution_count": 15,
   "metadata": {},
   "outputs": [
    {
     "name": "stdout",
     "output_type": "stream",
     "text": [
      "property:  12 -12\r\n",
      "Complex<Int>(real: 1, imag: -4)\r\n"
     ]
    }
   ],
   "source": [
    "print(\"property: \", complexInt.imag, complexInt.imagNegated)\n",
    "complexInt.imagNegated = 4\n",
    "print(complexInt)"
   ]
  },
  {
   "cell_type": "code",
   "execution_count": 16,
   "metadata": {},
   "outputs": [],
   "source": [
    "extension Complex {\n",
    "    func add(_ other: Complex) -> Complex {\n",
    "        return Complex(real: real + other.real,\n",
    "                       imag: imag + other.imag)\n",
    "    }\n",
    "}"
   ]
  },
  {
   "cell_type": "code",
   "execution_count": 17,
   "metadata": {},
   "outputs": [
    {
     "name": "stdout",
     "output_type": "stream",
     "text": [
      "☑️Original:  Complex<Float>(real: 1.0, imag: 3.1415925)\r\n",
      "⤴️Moved:     Complex<Float>(real: 11.0, imag: 13.141592)\r\n",
      "2️⃣Doubled:   Complex<Float>(real: 2.0, imag: 6.283185)\r\n"
     ]
    }
   ],
   "source": [
    "print(\"☑️Original: \", complexDouble)\n",
    "print(\"⤴️Moved:    \", complexDouble.add(Complex(real: 10, imag: 10)))\n",
    "print(\"2️⃣Doubled:  \", complexDouble.add(complexDouble))\n"
   ]
  },
  {
   "cell_type": "code",
   "execution_count": 18,
   "metadata": {},
   "outputs": [
    {
     "name": "stdout",
     "output_type": "stream",
     "text": [
      "added:  Complex<Int>(real: 2, imag: -8)\r\n"
     ]
    }
   ],
   "source": [
    "extension Complex {\n",
    "    static func + (lhs: Complex, rhs: Complex) -> Complex {\n",
    "        return Complex(real: lhs.real + lhs.real,\n",
    "                      imag: lhs.imag + rhs.imag)\n",
    "    }\n",
    "}\n",
    "print(\"added: \", complexInt + complexInt)"
   ]
  },
  {
   "cell_type": "code",
   "execution_count": 19,
   "metadata": {},
   "outputs": [
    {
     "name": "stdout",
     "output_type": "stream",
     "text": [
      "Complex<Float>(real: 1.0, imag: 3.1415925)\r\n"
     ]
    }
   ],
   "source": [
    "prefix operator √\n",
    "\n",
    "prefix func √(value: Complex<Float>) -> (Complex<Float>, Complex<Float>) {\n",
    "    \n",
    "    return (value, value)\n",
    "}\n",
    "\n",
    "let (root1, root2) = √complexDouble\n",
    "print(root1)"
   ]
  },
  {
   "cell_type": "code",
   "execution_count": 20,
   "metadata": {},
   "outputs": [],
   "source": [
    "#if canImport(PythonKit)\n",
    "    import PythonKit\n",
    "#else\n",
    "    import Python\n",
    "#endif"
   ]
  },
  {
   "cell_type": "code",
   "execution_count": 21,
   "metadata": {},
   "outputs": [],
   "source": [
    "public let np = Python.import(\"numpy\")\n",
    "public let plt = Python.import(\"matplotlib.pyplot\")"
   ]
  },
  {
   "cell_type": "code",
   "execution_count": 22,
   "metadata": {},
   "outputs": [
    {
     "data": {
      "text/plain": [
       "[1 2 3 4]\n"
      ]
     },
     "execution_count": 22,
     "metadata": {},
     "output_type": "execute_result"
    }
   ],
   "source": [
    "let npArray = np.array([1,2,3,4])\n",
    "npArray"
   ]
  },
  {
   "cell_type": "code",
   "execution_count": 23,
   "metadata": {},
   "outputs": [],
   "source": [
    "import TensorFlow\n",
    "let (xTrain, yTrain, xValid, yValid) = loadMNIST(path: mnistPath, flat: true)"
   ]
  },
  {
   "cell_type": "code",
   "execution_count": 24,
   "metadata": {},
   "outputs": [
    {
     "name": "stdout",
     "output_type": "stream",
     "text": [
      "Tensor<Float>\r\n",
      "[60000, 784]\r\n",
      "[60000]\r\n",
      "[10000, 784]\r\n",
      "[10000]\r\n"
     ]
    }
   ],
   "source": [
    "print(type(of: xTrain))\n",
    "print(xTrain.shape, yTrain.shape, xValid.shape, yValid.shape, separator: \"\\n\")\n"
   ]
  },
  {
   "cell_type": "code",
   "execution_count": 25,
   "metadata": {},
   "outputs": [
    {
     "data": {
      "text/plain": [
       "('inline', 'module://ipykernel.pylab.backend_inline')\n"
      ]
     },
     "execution_count": 25,
     "metadata": {},
     "output_type": "execute_result"
    }
   ],
   "source": [
    "%include \"EnableIPythonDisplay.swift\"\n",
    "IPythonDisplay.shell.enable_matplotlib(\"inline\")"
   ]
  },
  {
   "cell_type": "code",
   "execution_count": 26,
   "metadata": {},
   "outputs": [],
   "source": [
    "let img = xTrain[0].makeNumpyArray().reshape(28, 28)"
   ]
  },
  {
   "cell_type": "code",
   "execution_count": 27,
   "metadata": {},
   "outputs": [
    {
     "data": {
      "image/png": "[encoded data removed]",
      "text/plain": [
       "<Figure size 360x360 with 1 Axes>"
      ]
     },
     "metadata": {
      "needs_background": "light"
     },
     "output_type": "display_data"
    },
    {
     "data": {
      "text/plain": [
       "None\n"
      ]
     },
     "execution_count": 27,
     "metadata": {},
     "output_type": "execute_result"
    }
   ],
   "source": [
    "plt.figure(figsize: [5,5])\n",
    "plt.show(plt.imshow(X: img, cmap: \"gray\"))"
   ]
  },
  {
   "cell_type": "code",
   "execution_count": 28,
   "metadata": {},
   "outputs": [
    {
     "name": "stdout",
     "output_type": "stream",
     "text": [
      "NumPy Module Type:  PythonObject\r\n",
      "NumPy Function Type:  PythonObject\r\n",
      "NumPy Array Type:  PythonObject\r\n",
      "[2 4 6 8] 2\r\n",
      "<class 'numpy.ndarray'>\r\n",
      "<class 'numpy.ndarray'>\r\n"
     ]
    }
   ],
   "source": [
    "print(\"NumPy Module Type: \", type(of: np))\n",
    "print(\"NumPy Function Type: \", type(of: np.array))\n",
    "print(\"NumPy Array Type: \", type(of: npArray))\n",
    "print(npArray*2, npArray[1])\n",
    "\n",
    "print(Python.type(npArray))\n",
    "print(npArray.__class__)"
   ]
  },
  {
   "cell_type": "code",
   "execution_count": 29,
   "metadata": {},
   "outputs": [],
   "source": [
    "// Really simple math\n",
    "func squareAdd(n: Float) -> Float {\n",
    "    let tmp = n * n\n",
    "    let result = tmp + 1.0\n",
    "    return result\n",
    "}"
   ]
  },
  {
   "cell_type": "code",
   "execution_count": 30,
   "metadata": {},
   "outputs": [
    {
     "name": "stdout",
     "output_type": "stream",
     "text": [
      "Builtin.Int64\r\n",
      "Builtin.FPIEEE32\r\n"
     ]
    }
   ],
   "source": [
    "var someInt = 42\n",
    "print(type(of: someInt._value))\n",
    "print(type(of: π._value))\n"
   ]
  },
  {
   "cell_type": "code",
   "execution_count": 31,
   "metadata": {},
   "outputs": [],
   "source": [
    "import Builtin"
   ]
  },
  {
   "cell_type": "code",
   "execution_count": 32,
   "metadata": {},
   "outputs": [],
   "source": [
    "extension Int {\n",
    "  var isOdd : Bool { return self & 1 != 0 }\n",
    "}\n",
    "\n",
    "extension Bool {\n",
    "  var symbol : String { return self ? \"👍\" : \"👎\" }\n",
    "}\n"
   ]
  },
  {
   "cell_type": "code",
   "execution_count": 33,
   "metadata": {},
   "outputs": [
    {
     "name": "stdout",
     "output_type": "stream",
     "text": [
      "Feeling odd?\r\n",
      "  Lets check  4: false\r\n",
      "  what about 17: true\r\n",
      "  Lets check  4: 👎\r\n",
      "  What about 17: 👍\r\n"
     ]
    }
   ],
   "source": [
    "print(\"\"\"\n",
    "      Feeling odd?\n",
    "        Lets check  4: \\(     4.isOdd         )\n",
    "        what about 17: \\(    17.isOdd         )\n",
    "        Lets check  4: \\(     4.isOdd.symbol  )\n",
    "        What about 17: \\(    17.isOdd.symbol  )\n",
    "      \"\"\")"
   ]
  },
  {
   "cell_type": "code",
   "execution_count": 34,
   "metadata": {},
   "outputs": [],
   "source": [
    "var myArray = [1,2,3,4,5,6]"
   ]
  },
  {
   "cell_type": "code",
   "execution_count": 35,
   "metadata": {},
   "outputs": [],
   "source": [
    "var myArray2 : [Int] = myArray"
   ]
  },
  {
   "cell_type": "code",
   "execution_count": 36,
   "metadata": {},
   "outputs": [],
   "source": [
    "var myArray3 : Array<Int> = myArray"
   ]
  },
  {
   "cell_type": "code",
   "execution_count": 37,
   "metadata": {},
   "outputs": [
    {
     "name": "stdout",
     "output_type": "stream",
     "text": [
      "Array<Int> Array<Int> Array<Int>\r\n"
     ]
    }
   ],
   "source": [
    "print(type(of: myArray), type(of: myArray2), type(of: myArray3))"
   ]
  },
  {
   "cell_type": "code",
   "execution_count": 38,
   "metadata": {},
   "outputs": [
    {
     "name": "stdout",
     "output_type": "stream",
     "text": [
      "1\r\n",
      "2\r\n",
      "3\r\n",
      "4\r\n",
      "5\r\n",
      "6\r\n"
     ]
    }
   ],
   "source": [
    "// Standard `for` loop\n",
    "for x in myArray {\n",
    "    print(x)\n",
    "}"
   ]
  },
  {
   "cell_type": "code",
   "execution_count": 39,
   "metadata": {},
   "outputs": [
    {
     "name": "stdout",
     "output_type": "stream",
     "text": [
      "element: 1\r\n",
      "slice:   [2, 3, 4]\r\n",
      "slice:   [2, 3]\r\n"
     ]
    }
   ],
   "source": [
    "print(\"element:\", myArray[0])\n",
    "print(\"slice:  \", myArray[1...3])  // inclusive - includes \"3\"\n",
    "print(\"slice:  \", myArray[1..<3])  // exclusive"
   ]
  },
  {
   "cell_type": "code",
   "execution_count": 40,
   "metadata": {},
   "outputs": [
    {
     "name": "stdout",
     "output_type": "stream",
     "text": [
      "mapped:    [11, 12, 13, 14, 15, 16]\r\n"
     ]
    }
   ],
   "source": [
    "print(\"mapped:   \", myArray.map({ arg in arg + 10 }))"
   ]
  },
  {
   "cell_type": "code",
   "execution_count": 41,
   "metadata": {},
   "outputs": [
    {
     "name": "stdout",
     "output_type": "stream",
     "text": [
      "filtered:  [1, 3, 5]\r\n"
     ]
    }
   ],
   "source": [
    "print(\"filtered: \", myArray.filter({ $0.isOdd }))"
   ]
  },
  {
   "cell_type": "code",
   "execution_count": 42,
   "metadata": {},
   "outputs": [
    {
     "name": "stdout",
     "output_type": "stream",
     "text": [
      "oddity:    [\"👍\", \"👎\", \"👍\", \"👎\", \"👍\", \"👎\"]\r\n",
      "processed: [3, 9, 15]\r\n"
     ]
    }
   ],
   "source": [
    "print(\"oddity:   \", myArray.map{ $0.isOdd.symbol })\n",
    "print(\"processed:\", myArray.map{ $0*3 }.filter{ $0.isOdd })"
   ]
  },
  {
   "cell_type": "code",
   "execution_count": 43,
   "metadata": {},
   "outputs": [
    {
     "name": "stdout",
     "output_type": "stream",
     "text": [
      "sum:  21\r\n"
     ]
    }
   ],
   "source": [
    "print(\"sum: \", myArray.reduce(0, +))"
   ]
  },
  {
   "cell_type": "code",
   "execution_count": 44,
   "metadata": {},
   "outputs": [
    {
     "name": "stdout",
     "output_type": "stream",
     "text": [
      "[2, 4, 6]\r\n"
     ]
    }
   ],
   "source": [
    "extension Array where Element : Numeric {\n",
    "    func doubleElements() -> Array {\n",
    "        return self.map { $0 * 2 }\n",
    "    }\n",
    "}\n",
    "\n",
    "print([1,2,3].doubleElements())"
   ]
  },
  {
   "cell_type": "code",
   "execution_count": 45,
   "metadata": {},
   "outputs": [
    {
     "ename": "",
     "evalue": "",
     "output_type": "error",
     "traceback": [
      "error: <Cell 45>:1:7: error: referencing instance method 'doubleElements()' on 'Array' requires that 'Bool' conform to 'Numeric'\nprint([true, false, true].doubleElements())\n      ^\n\n"
     ]
    }
   ],
   "source": [
    "print([true, false, true].doubleElements())"
   ]
  }
 ],
 "metadata": {
  "kernelspec": {
   "display_name": "Swift",
   "language": "swift",
   "name": "swift"
  },
  "language_info": {
   "file_extension": ".swift",
   "mimetype": "text/x-swift",
   "name": "swift",
   "version": ""
  }
 },
 "nbformat": 4,
 "nbformat_minor": 2
}

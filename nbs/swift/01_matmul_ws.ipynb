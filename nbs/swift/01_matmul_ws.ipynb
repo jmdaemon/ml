{
 "cells": [
  {
   "cell_type": "code",
   "execution_count": 1,
   "metadata": {},
   "outputs": [
    {
     "name": "stdout",
     "output_type": "stream",
     "text": [
      "Installing packages:\n",
      "\t.package(path: \"/home/jmd/workspace/fastai/course-v3/nbs/swift/FastaiNotebook_00_load_data\")\n",
      "\t\tFastaiNotebook_00_load_data\n",
      "With SwiftPM flags: []\n",
      "Working in: /tmp/tmpaogbyggk/swift-install\n",
      "warning: /home/jmd/swift/usr/bin/swiftc: /home/jmd/anaconda3/envs/swift/lib/libuuid.so.1: no version information available (required by /home/jmd/swift/usr/bin/swiftc)\n",
      "/home/jmd/swift/usr/bin/swiftc: /home/jmd/anaconda3/envs/swift/lib/libtinfo.so.6: no version information available (required by /lib/x86_64-linux-gnu/libedit.so.2)\n",
      "/home/jmd/swift/usr/bin/swift: /home/jmd/anaconda3/envs/swift/lib/libuuid.so.1: no version information available (required by /home/jmd/swift/usr/bin/swift)\n",
      "/home/jmd/swift/usr/bin/swift: /home/jmd/anaconda3/envs/swift/lib/libtinfo.so.6: no version information available (required by /lib/x86_64-linux-gnu/libedit.so.2)\n",
      "warning: /home/jmd/swift/usr/bin/swiftc: /home/jmd/anaconda3/envs/swift/lib/libuuid.so.1: no version information available (required by /home/jmd/swift/usr/bin/swiftc)\n",
      "/home/jmd/swift/usr/bin/swiftc: /home/jmd/anaconda3/envs/swift/lib/libtinfo.so.6: no version information available (required by /lib/x86_64-linux-gnu/libedit.so.2)\n",
      "/home/jmd/swift/usr/bin/swift: /home/jmd/anaconda3/envs/swift/lib/libuuid.so.1: no version information available (required by /home/jmd/swift/usr/bin/swift)\n",
      "/home/jmd/swift/usr/bin/swift: /home/jmd/anaconda3/envs/swift/lib/libtinfo.so.6: no version information available (required by /lib/x86_64-linux-gnu/libedit.so.2)\n",
      "warning: /home/jmd/swift/usr/bin/swiftc: /home/jmd/anaconda3/envs/swift/lib/libuuid.so.1: no version information available (required by /home/jmd/swift/usr/bin/swiftc)\n",
      "/home/jmd/swift/usr/bin/swiftc: /home/jmd/anaconda3/envs/swift/lib/libtinfo.so.6: no version information available (required by /lib/x86_64-linux-gnu/libedit.so.2)\n",
      "/home/jmd/swift/usr/bin/swift: /home/jmd/anaconda3/envs/swift/lib/libuuid.so.1: no version information available (required by /home/jmd/swift/usr/bin/swift)\n",
      "/home/jmd/swift/usr/bin/swift: /home/jmd/anaconda3/envs/swift/lib/libtinfo.so.6: no version information available (required by /lib/x86_64-linux-gnu/libedit.so.2)\n",
      "warning: /home/jmd/swift/usr/bin/swiftc: /home/jmd/anaconda3/envs/swift/lib/libuuid.so.1: no version information available (required by /home/jmd/swift/usr/bin/swiftc)\n",
      "/home/jmd/swift/usr/bin/swiftc: /home/jmd/anaconda3/envs/swift/lib/libtinfo.so.6: no version information available (required by /lib/x86_64-linux-gnu/libedit.so.2)\n",
      "/home/jmd/swift/usr/bin/swift: /home/jmd/anaconda3/envs/swift/lib/libuuid.so.1: no version information available (required by /home/jmd/swift/usr/bin/swift)\n",
      "/home/jmd/swift/usr/bin/swift: /home/jmd/anaconda3/envs/swift/lib/libtinfo.so.6: no version information available (required by /lib/x86_64-linux-gnu/libedit.so.2)\n",
      "warning: /home/jmd/swift/usr/bin/swiftc: /home/jmd/anaconda3/envs/swift/lib/libuuid.so.1: no version information available (required by /home/jmd/swift/usr/bin/swiftc)\n",
      "/home/jmd/swift/usr/bin/swiftc: /home/jmd/anaconda3/envs/swift/lib/libtinfo.so.6: no version information available (required by /lib/x86_64-linux-gnu/libedit.so.2)\n",
      "/home/jmd/swift/usr/bin/swift: /home/jmd/anaconda3/envs/swift/lib/libuuid.so.1: no version information available (required by /home/jmd/swift/usr/bin/swift)\n",
      "/home/jmd/swift/usr/bin/swift: /home/jmd/anaconda3/envs/swift/lib/libtinfo.so.6: no version information available (required by /lib/x86_64-linux-gnu/libedit.so.2)\n",
      "/home/jmd/swift/usr/bin/swiftc: /home/jmd/anaconda3/envs/swift/lib/libuuid.so.1: no version information available (required by /home/jmd/swift/usr/bin/swiftc)\n",
      "/home/jmd/swift/usr/bin/swiftc: /home/jmd/anaconda3/envs/swift/lib/libtinfo.so.6: no version information available (required by /lib/x86_64-linux-gnu/libedit.so.2)\n",
      "/home/jmd/swift/usr/bin/swiftc: /home/jmd/anaconda3/envs/swift/lib/libuuid.so.1: no version information available (required by /home/jmd/swift/usr/bin/swiftc)/home/jmd/swift/usr/bin/swiftc: /home/jmd/anaconda3/envs/swift/lib/libtinfo.so.6: no version information available (required by /lib/x86_64-linux-gnu/libedit.so.2)[1/4] Compiling FastaiNotebook_00_load_data 00_load_data.swift\n",
      "/home/jmd/swift/usr/bin/swift: /home/jmd/anaconda3/envs/swift/lib/libuuid.so.1: no version information available (required by /home/jmd/swift/usr/bin/swift)\n",
      "/home/jmd/swift/usr/bin/swift: /home/jmd/anaconda3/envs/swift/lib/libtinfo.so.6: no version information available (required by /lib/x86_64-linux-gnu/libedit.so.2)\n",
      "[2/5] Merging module FastaiNotebook_00_load_data\n",
      "/home/jmd/swift/usr/bin/swift: /home/jmd/anaconda3/envs/swift/lib/libuuid.so.1: no version information available (required by /home/jmd/swift/usr/bin/swift)\n",
      "/home/jmd/swift/usr/bin/swift: /home/jmd/anaconda3/envs/swift/lib/libtinfo.so.6: no version information available (required by /lib/x86_64-linux-gnu/libedit.so.2)\n",
      "/home/jmd/swift/usr/bin/swiftc: /home/jmd/anaconda3/envs/swift/lib/libuuid.so.1: no version information available (required by /home/jmd/swift/usr/bin/swiftc)/home/jmd/swift/usr/bin/swiftc: /home/jmd/anaconda3/envs/swift/lib/libtinfo.so.6: no version information available (required by /lib/x86_64-linux-gnu/libedit.so.2)[3/5] Compiling jupyterInstalledPackages jupyterInstalledPackages.swift\n",
      "/home/jmd/swift/usr/bin/swift: /home/jmd/anaconda3/envs/swift/lib/libuuid.so.1: no version information available (required by /home/jmd/swift/usr/bin/swift)\n",
      "/home/jmd/swift/usr/bin/swift: /home/jmd/anaconda3/envs/swift/lib/libtinfo.so.6: no version information available (required by /lib/x86_64-linux-gnu/libedit.so.2)\n",
      "[4/6] Merging module jupyterInstalledPackages\n",
      "/home/jmd/swift/usr/bin/swift: /home/jmd/anaconda3/envs/swift/lib/libuuid.so.1: no version information available (required by /home/jmd/swift/usr/bin/swift)\n",
      "/home/jmd/swift/usr/bin/swift: /home/jmd/anaconda3/envs/swift/lib/libtinfo.so.6: no version information available (required by /lib/x86_64-linux-gnu/libedit.so.2)\n",
      "/home/jmd/swift/usr/bin/swiftc: /home/jmd/anaconda3/envs/swift/lib/libuuid.so.1: no version information available (required by /home/jmd/swift/usr/bin/swiftc)\n",
      "/home/jmd/swift/usr/bin/swiftc: /home/jmd/anaconda3/envs/swift/lib/libtinfo.so.6: no version information available (required by /lib/x86_64-linux-gnu/libedit.so.2)\n",
      "/home/jmd/swift/usr/bin/swift-autolink-extract: /home/jmd/anaconda3/envs/swift/lib/libuuid.so.1: no version information available (required by /home/jmd/swift/usr/bin/swift-autolink-extract)\n",
      "/home/jmd/swift/usr/bin/swift-autolink-extract: /home/jmd/anaconda3/envs/swift/lib/libtinfo.so.6: no version information available (required by /lib/x86_64-linux-gnu/libedit.so.2)\n",
      "[5/5] Linking libjupyterInstalledPackages.so\n",
      "Initializing Swift...\n",
      "Installation complete!\n"
     ]
    }
   ],
   "source": [
    "%install-location $cwd/swift-install\n",
    "%install '.package(path: \"$cwd/FastaiNotebook_00_load_data\")' FastaiNotebook_00_load_data"
   ]
  },
  {
   "cell_type": "code",
   "execution_count": 2,
   "metadata": {},
   "outputs": [],
   "source": [
    "//export\n",
    "import Path\n",
    "import TensorFlow"
   ]
  },
  {
   "cell_type": "code",
   "execution_count": 3,
   "metadata": {},
   "outputs": [],
   "source": [
    "import FastaiNotebook_00_load_data"
   ]
  },
  {
   "cell_type": "code",
   "execution_count": 4,
   "metadata": {},
   "outputs": [],
   "source": [
    "let zeros = Tensor<Float>(zeros: [1,4,5])\n",
    "let ones  = Tensor<Float>(ones: [12,4,5])\n",
    "let twos  = Tensor<Float>(repeating: 2.0, shape: [2,3,4,5])\n",
    "let range = Tensor<Int32>(rangeFrom: 0, to: 32, stride: 1)"
   ]
  },
  {
   "cell_type": "code",
   "execution_count": 5,
   "metadata": {},
   "outputs": [
    {
     "name": "stdout",
     "output_type": "stream",
     "text": [
      "[ 0.044765238,   0.03989295,   0.04267481, -0.071885906,   0.04634168, -0.022148294,\r\n",
      " -0.024864515, -0.043218795, -0.028810915, 0.0063598086]\r\n"
     ]
    }
   ],
   "source": [
    "let xTrain = Tensor<Float>(randomNormal: [5, 784])\n",
    "var weights = Tensor<Float>(randomNormal: [784, 10]) / sqrt(784)\n",
    "print(weights[0])"
   ]
  },
  {
   "cell_type": "code",
   "execution_count": 6,
   "metadata": {},
   "outputs": [],
   "source": [
    "// a and b are the flattened array elements, aDims/bDims are the #rows/columns of the arrays.\n",
    "func swiftMatmul(a: [Float], b: [Float], aDims: (Int,Int), bDims: (Int,Int)) -> [Float] {\n",
    "    assert(aDims.1 == bDims.0, \"matmul shape mismatch\")\n",
    "    \n",
    "    var res = Array(repeating: Float(0.0), count: aDims.0 * bDims.1)\n",
    "    for i in 0 ..< aDims.0 {\n",
    "        for j in 0 ..< bDims.1 {\n",
    "            for k in 0 ..< aDims.1 {\n",
    "                res[i*bDims.1+j] += a[i*aDims.1+k] * b[k*bDims.1+j]\n",
    "            }\n",
    "        }\n",
    "    }\n",
    "    return res\n",
    "}"
   ]
  },
  {
   "cell_type": "code",
   "execution_count": 7,
   "metadata": {},
   "outputs": [],
   "source": [
    "let flatA = xTrain[0..<5].scalars\n",
    "let flatB = weights.scalars\n",
    "let (aDims,bDims) = ((5, 784), (784, 10))"
   ]
  },
  {
   "cell_type": "code",
   "execution_count": 8,
   "metadata": {},
   "outputs": [],
   "source": [
    "var resultArray = swiftMatmul(a: flatA, b: flatB, aDims: aDims, bDims: bDims)"
   ]
  },
  {
   "cell_type": "code",
   "execution_count": 9,
   "metadata": {},
   "outputs": [
    {
     "name": "stdout",
     "output_type": "stream",
     "text": [
      "average: 0.08481242999999998 ms,   min: 0.084466 ms,   max: 0.092988 ms\r\n"
     ]
    }
   ],
   "source": [
    "time(repeating: 100) {\n",
    "    _ = swiftMatmul(a: flatA, b: flatB, aDims: aDims, bDims: bDims)\n",
    "}"
   ]
  },
  {
   "cell_type": "code",
   "execution_count": 10,
   "metadata": {},
   "outputs": [],
   "source": [
    "// a and b are the flattened array elements, aDims/bDims are the #rows/columns of the arrays.\n",
    "func swiftMatmulUnsafe(a: UnsafePointer<Float>, b: UnsafePointer<Float>, aDims: (Int,Int), bDims: (Int,Int)) -> [Float] {\n",
    "    assert(aDims.1 == bDims.0, \"matmul shape mismatch\")\n",
    "    \n",
    "    var res = Array(repeating: Float(0.0), count: aDims.0 * bDims.1)\n",
    "    res.withUnsafeMutableBufferPointer { res in \n",
    "        for i in 0 ..< aDims.0 {\n",
    "            for j in 0 ..< bDims.1 {\n",
    "                for k in 0 ..< aDims.1 {\n",
    "                    res[i*bDims.1+j] += a[i*aDims.1+k] * b[k*bDims.1+j]\n",
    "                }\n",
    "            }\n",
    "        }\n",
    "    }\n",
    "    return res\n",
    "}"
   ]
  },
  {
   "cell_type": "code",
   "execution_count": 11,
   "metadata": {},
   "outputs": [
    {
     "name": "stdout",
     "output_type": "stream",
     "text": [
      "average: 0.04751202 ms,   min: 0.047174 ms,   max: 0.057034 ms\r\n"
     ]
    }
   ],
   "source": [
    "time(repeating: 100) {\n",
    "    _ = swiftMatmulUnsafe(a: flatA, b: flatB, aDims: aDims, bDims: bDims)\n",
    "}"
   ]
  },
  {
   "cell_type": "code",
   "execution_count": 12,
   "metadata": {},
   "outputs": [
    {
     "name": "stdout",
     "output_type": "stream",
     "text": [
      "☠️☠️ Uninitialized garbage = 46\r\n"
     ]
    }
   ],
   "source": [
    "import Glibc\n",
    "\n",
    "let ptr : UnsafeMutableRawPointer = malloc(42)\n",
    "\n",
    "print(\"☠️☠️ Uninitialized garbage =\", ptr.load(as: UInt8.self))\n",
    "\n",
    "free(ptr)"
   ]
  },
  {
   "cell_type": "code",
   "execution_count": 13,
   "metadata": {},
   "outputs": [
    {
     "name": "stdout",
     "output_type": "stream",
     "text": [
      "🐍list =     b'\\x80\\x03]q\\x00(K\\x01K\\x02K\\x03e.'\r\n",
      "🐍ndarray =  b'\\x80\\x03cnumpy.core.multiarray\\n_reconstruct\\nq\\x00cnumpy\\nndarray\\nq\\x01K\\x00\\x85q\\x02C\\x01bq\\x03\\x87q\\x04Rq\\x05(K\\x01K\\x02K\\x02\\x86q\\x06cnumpy\\ndtype\\nq\\x07X\\x02\\x00\\x00\\x00i8q\\x08K\\x00K\\x01\\x87q\\tRq\\n(K\\x03X\\x01\\x00\\x00\\x00<q\\x0bNNNJ\\xff\\xff\\xff\\xffJ\\xff\\xff\\xff\\xffK\\x00tq\\x0cb\\x89C \\x01\\x00\\x00\\x00\\x00\\x00\\x00\\x00\\x02\\x00\\x00\\x00\\x00\\x00\\x00\\x00\\x03\\x00\\x00\\x00\\x00\\x00\\x00\\x00\\x04\\x00\\x00\\x00\\x00\\x00\\x00\\x00q\\rtq\\x0eb.'\r\n"
     ]
    }
   ],
   "source": [
    "import Python\n",
    "let np = Python.import(\"numpy\")\n",
    "let pickle = Python.import(\"pickle\")\n",
    "let sys = Python.import(\"sys\")\n",
    "\n",
    "print(\"🐍list =    \", pickle.dumps([1, 2, 3]))\n",
    "print(\"🐍ndarray = \", pickle.dumps(np.array([[1, 2], [3, 4]])))\n"
   ]
  },
  {
   "cell_type": "code",
   "execution_count": 14,
   "metadata": {},
   "outputs": [],
   "source": [
    "var bias = Tensor<Float>(zeros: [10])\n",
    "\n",
    "let m1 = Tensor<Float>(randomNormal: [5, 784])\n",
    "let m2 = Tensor<Float>(randomNormal: [784, 10])"
   ]
  },
  {
   "cell_type": "code",
   "execution_count": 15,
   "metadata": {},
   "outputs": [
    {
     "name": "stdout",
     "output_type": "stream",
     "text": [
      "m1:  [5, 784]\r\n",
      "m2:  [784, 10]\r\n"
     ]
    }
   ],
   "source": [
    "print(\"m1: \", m1.shape)\n",
    "print(\"m2: \", m2.shape)"
   ]
  },
  {
   "cell_type": "code",
   "execution_count": 16,
   "metadata": {},
   "outputs": [
    {
     "name": "stdout",
     "output_type": "stream",
     "text": [
      "🔢2x2:\r\n",
      " [[1.0, 2.0],\r\n",
      " [3.0, 4.0]]\r\n"
     ]
    }
   ],
   "source": [
    "let small = Tensor<Float>([[1, 2],\n",
    "                           [3, 4]])\n",
    "\n",
    "print(\"🔢2x2:\\n\", small)"
   ]
  },
  {
   "cell_type": "code",
   "execution_count": 17,
   "metadata": {},
   "outputs": [
    {
     "name": "stdout",
     "output_type": "stream",
     "text": [
      "⊞ matmul:\n",
      " [[ 7.0, 10.0],\n",
      " [15.0, 22.0]]\n",
      "\n",
      "⊞ again:\n",
      " [[ 7.0, 10.0],\n",
      " [15.0, 22.0]]\n"
     ]
    }
   ],
   "source": [
    "print(\"⊞ matmul:\\n\",  matmul(small, small))\n",
    "print(\"\\n⊞ again:\\n\", small • small)\n"
   ]
  },
  {
   "cell_type": "code",
   "execution_count": null,
   "metadata": {},
   "outputs": [],
   "source": []
  }
 ],
 "metadata": {
  "kernelspec": {
   "display_name": "Swift",
   "language": "swift",
   "name": "swift"
  },
  "language_info": {
   "file_extension": ".swift",
   "mimetype": "text/x-swift",
   "name": "swift",
   "version": ""
  }
 },
 "nbformat": 4,
 "nbformat_minor": 2
}

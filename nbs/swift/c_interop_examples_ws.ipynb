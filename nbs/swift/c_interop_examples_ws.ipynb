{
 "cells": [
  {
   "cell_type": "code",
   "execution_count": 1,
   "metadata": {},
   "outputs": [
    {
     "name": "stdout",
     "output_type": "stream",
     "text": [
      "Installing packages:\n",
      "\t.package(path: \"/home/jmd/workspace/fastai/course-v3/nbs/swift/SwiftVips\")\n",
      "\t\tSwiftVips\n",
      "\t.package(path: \"/home/jmd/workspace/fastai/course-v3/nbs/swift/SwiftSox\")\n",
      "\t\tSwiftSox\n",
      "\t.package(path: \"/home/jmd/workspace/fastai/course-v3/nbs/swift/FastaiNotebook_08_data_block\")\n",
      "\t\tFastaiNotebook_08_data_block\n",
      "With SwiftPM flags: []\n",
      "Working in: /tmp/tmpd8ysv4ge/swift-install\n",
      "warning: /home/jmd/swift/usr/bin/swiftc: /home/jmd/anaconda3/envs/swift/lib/libuuid.so.1: no version information available (required by /home/jmd/swift/usr/bin/swiftc)\n",
      "/home/jmd/swift/usr/bin/swiftc: /home/jmd/anaconda3/envs/swift/lib/libtinfo.so.6: no version information available (required by /lib/x86_64-linux-gnu/libedit.so.2)\n",
      "/home/jmd/swift/usr/bin/swift: /home/jmd/anaconda3/envs/swift/lib/libuuid.so.1: no version information available (required by /home/jmd/swift/usr/bin/swift)\n",
      "/home/jmd/swift/usr/bin/swift: /home/jmd/anaconda3/envs/swift/lib/libtinfo.so.6: no version information available (required by /lib/x86_64-linux-gnu/libedit.so.2)\n",
      "warning: /home/jmd/swift/usr/bin/swiftc: /home/jmd/anaconda3/envs/swift/lib/libuuid.so.1: no version information available (required by /home/jmd/swift/usr/bin/swiftc)\n",
      "/home/jmd/swift/usr/bin/swiftc: /home/jmd/anaconda3/envs/swift/lib/libtinfo.so.6: no version information available (required by /lib/x86_64-linux-gnu/libedit.so.2)\n",
      "/home/jmd/swift/usr/bin/swift: /home/jmd/anaconda3/envs/swift/lib/libuuid.so.1: no version information available (required by /home/jmd/swift/usr/bin/swift)\n",
      "/home/jmd/swift/usr/bin/swift: /home/jmd/anaconda3/envs/swift/lib/libtinfo.so.6: no version information available (required by /lib/x86_64-linux-gnu/libedit.so.2)\n",
      "warning: /home/jmd/swift/usr/bin/swiftc: /home/jmd/anaconda3/envs/swift/lib/libuuid.so.1: no version information available (required by /home/jmd/swift/usr/bin/swiftc)\n",
      "/home/jmd/swift/usr/bin/swiftc: /home/jmd/anaconda3/envs/swift/lib/libtinfo.so.6: no version information available (required by /lib/x86_64-linux-gnu/libedit.so.2)\n",
      "/home/jmd/swift/usr/bin/swift: /home/jmd/anaconda3/envs/swift/lib/libuuid.so.1: no version information available (required by /home/jmd/swift/usr/bin/swift)\n",
      "/home/jmd/swift/usr/bin/swift: /home/jmd/anaconda3/envs/swift/lib/libtinfo.so.6: no version information available (required by /lib/x86_64-linux-gnu/libedit.so.2)\n",
      "warning: /home/jmd/swift/usr/bin/swiftc: /home/jmd/anaconda3/envs/swift/lib/libuuid.so.1: no version information available (required by /home/jmd/swift/usr/bin/swiftc)\n",
      "/home/jmd/swift/usr/bin/swiftc: /home/jmd/anaconda3/envs/swift/lib/libtinfo.so.6: no version information available (required by /lib/x86_64-linux-gnu/libedit.so.2)\n",
      "/home/jmd/swift/usr/bin/swift: /home/jmd/anaconda3/envs/swift/lib/libuuid.so.1: no version information available (required by /home/jmd/swift/usr/bin/swift)\n",
      "/home/jmd/swift/usr/bin/swift: /home/jmd/anaconda3/envs/swift/lib/libtinfo.so.6: no version information available (required by /lib/x86_64-linux-gnu/libedit.so.2)\n",
      "warning: /home/jmd/swift/usr/bin/swiftc: /home/jmd/anaconda3/envs/swift/lib/libuuid.so.1: no version information available (required by /home/jmd/swift/usr/bin/swiftc)\n",
      "/home/jmd/swift/usr/bin/swiftc: /home/jmd/anaconda3/envs/swift/lib/libtinfo.so.6: no version information available (required by /lib/x86_64-linux-gnu/libedit.so.2)\n",
      "/home/jmd/swift/usr/bin/swift: /home/jmd/anaconda3/envs/swift/lib/libuuid.so.1: no version information available (required by /home/jmd/swift/usr/bin/swift)\n",
      "/home/jmd/swift/usr/bin/swift: /home/jmd/anaconda3/envs/swift/lib/libtinfo.so.6: no version information available (required by /lib/x86_64-linux-gnu/libedit.so.2)\n",
      "warning: /home/jmd/swift/usr/bin/swiftc: /home/jmd/anaconda3/envs/swift/lib/libuuid.so.1: no version information available (required by /home/jmd/swift/usr/bin/swiftc)\n",
      "/home/jmd/swift/usr/bin/swiftc: /home/jmd/anaconda3/envs/swift/lib/libtinfo.so.6: no version information available (required by /lib/x86_64-linux-gnu/libedit.so.2)\n",
      "/home/jmd/swift/usr/bin/swift: /home/jmd/anaconda3/envs/swift/lib/libuuid.so.1: no version information available (required by /home/jmd/swift/usr/bin/swift)\n",
      "/home/jmd/swift/usr/bin/swift: /home/jmd/anaconda3/envs/swift/lib/libtinfo.so.6: no version information available (required by /lib/x86_64-linux-gnu/libedit.so.2)\n",
      "warning: /home/jmd/swift/usr/bin/swiftc: /home/jmd/anaconda3/envs/swift/lib/libuuid.so.1: no version information available (required by /home/jmd/swift/usr/bin/swiftc)\n",
      "/home/jmd/swift/usr/bin/swiftc: /home/jmd/anaconda3/envs/swift/lib/libtinfo.so.6: no version information available (required by /lib/x86_64-linux-gnu/libedit.so.2)\n",
      "/home/jmd/swift/usr/bin/swift: /home/jmd/anaconda3/envs/swift/lib/libuuid.so.1: no version information available (required by /home/jmd/swift/usr/bin/swift)\n",
      "/home/jmd/swift/usr/bin/swift: /home/jmd/anaconda3/envs/swift/lib/libtinfo.so.6: no version information available (required by /lib/x86_64-linux-gnu/libedit.so.2)\n",
      "warning: /home/jmd/swift/usr/bin/swiftc: /home/jmd/anaconda3/envs/swift/lib/libuuid.so.1: no version information available (required by /home/jmd/swift/usr/bin/swiftc)\n",
      "/home/jmd/swift/usr/bin/swiftc: /home/jmd/anaconda3/envs/swift/lib/libtinfo.so.6: no version information available (required by /lib/x86_64-linux-gnu/libedit.so.2)\n",
      "/home/jmd/swift/usr/bin/swift: /home/jmd/anaconda3/envs/swift/lib/libuuid.so.1: no version information available (required by /home/jmd/swift/usr/bin/swift)\n",
      "/home/jmd/swift/usr/bin/swift: /home/jmd/anaconda3/envs/swift/lib/libtinfo.so.6: no version information available (required by /lib/x86_64-linux-gnu/libedit.so.2)\n",
      "warning: /home/jmd/swift/usr/bin/swiftc: /home/jmd/anaconda3/envs/swift/lib/libuuid.so.1: no version information available (required by /home/jmd/swift/usr/bin/swiftc)\n",
      "/home/jmd/swift/usr/bin/swiftc: /home/jmd/anaconda3/envs/swift/lib/libtinfo.so.6: no version information available (required by /lib/x86_64-linux-gnu/libedit.so.2)\n",
      "/home/jmd/swift/usr/bin/swift: /home/jmd/anaconda3/envs/swift/lib/libuuid.so.1: no version information available (required by /home/jmd/swift/usr/bin/swift)\n",
      "/home/jmd/swift/usr/bin/swift: /home/jmd/anaconda3/envs/swift/lib/libtinfo.so.6: no version information available (required by /lib/x86_64-linux-gnu/libedit.so.2)\n",
      "warning: /home/jmd/swift/usr/bin/swiftc: /home/jmd/anaconda3/envs/swift/lib/libuuid.so.1: no version information available (required by /home/jmd/swift/usr/bin/swiftc)\n",
      "/home/jmd/swift/usr/bin/swiftc: /home/jmd/anaconda3/envs/swift/lib/libtinfo.so.6: no version information available (required by /lib/x86_64-linux-gnu/libedit.so.2)\n",
      "/home/jmd/swift/usr/bin/swift: /home/jmd/anaconda3/envs/swift/lib/libuuid.so.1: no version information available (required by /home/jmd/swift/usr/bin/swift)\n",
      "/home/jmd/swift/usr/bin/swift: /home/jmd/anaconda3/envs/swift/lib/libtinfo.so.6: no version information available (required by /lib/x86_64-linux-gnu/libedit.so.2)\n",
      "warning: /home/jmd/swift/usr/bin/swiftc: /home/jmd/anaconda3/envs/swift/lib/libuuid.so.1: no version information available (required by /home/jmd/swift/usr/bin/swiftc)\n",
      "/home/jmd/swift/usr/bin/swiftc: /home/jmd/anaconda3/envs/swift/lib/libtinfo.so.6: no version information available (required by /lib/x86_64-linux-gnu/libedit.so.2)\n",
      "/home/jmd/swift/usr/bin/swift: /home/jmd/anaconda3/envs/swift/lib/libuuid.so.1: no version information available (required by /home/jmd/swift/usr/bin/swift)\n",
      "/home/jmd/swift/usr/bin/swift: /home/jmd/anaconda3/envs/swift/lib/libtinfo.so.6: no version information available (required by /lib/x86_64-linux-gnu/libedit.so.2)\n",
      "warning: /home/jmd/swift/usr/bin/swiftc: /home/jmd/anaconda3/envs/swift/lib/libuuid.so.1: no version information available (required by /home/jmd/swift/usr/bin/swiftc)\n",
      "/home/jmd/swift/usr/bin/swiftc: /home/jmd/anaconda3/envs/swift/lib/libtinfo.so.6: no version information available (required by /lib/x86_64-linux-gnu/libedit.so.2)\n",
      "/home/jmd/swift/usr/bin/swift: /home/jmd/anaconda3/envs/swift/lib/libuuid.so.1: no version information available (required by /home/jmd/swift/usr/bin/swift)\n",
      "/home/jmd/swift/usr/bin/swift: /home/jmd/anaconda3/envs/swift/lib/libtinfo.so.6: no version information available (required by /lib/x86_64-linux-gnu/libedit.so.2)\n"
     ]
    },
    {
     "name": "stdout",
     "output_type": "stream",
     "text": [
      "warning: /home/jmd/swift/usr/bin/swiftc: /home/jmd/anaconda3/envs/swift/lib/libuuid.so.1: no version information available (required by /home/jmd/swift/usr/bin/swiftc)\n",
      "/home/jmd/swift/usr/bin/swiftc: /home/jmd/anaconda3/envs/swift/lib/libtinfo.so.6: no version information available (required by /lib/x86_64-linux-gnu/libedit.so.2)\n",
      "/home/jmd/swift/usr/bin/swift: /home/jmd/anaconda3/envs/swift/lib/libuuid.so.1: no version information available (required by /home/jmd/swift/usr/bin/swift)\n",
      "/home/jmd/swift/usr/bin/swift: /home/jmd/anaconda3/envs/swift/lib/libtinfo.so.6: no version information available (required by /lib/x86_64-linux-gnu/libedit.so.2)\n",
      "warning: /home/jmd/swift/usr/bin/swiftc: /home/jmd/anaconda3/envs/swift/lib/libuuid.so.1: no version information available (required by /home/jmd/swift/usr/bin/swiftc)\n",
      "/home/jmd/swift/usr/bin/swiftc: /home/jmd/anaconda3/envs/swift/lib/libtinfo.so.6: no version information available (required by /lib/x86_64-linux-gnu/libedit.so.2)\n",
      "/home/jmd/swift/usr/bin/swift: /home/jmd/anaconda3/envs/swift/lib/libuuid.so.1: no version information available (required by /home/jmd/swift/usr/bin/swift)\n",
      "/home/jmd/swift/usr/bin/swift: /home/jmd/anaconda3/envs/swift/lib/libtinfo.so.6: no version information available (required by /lib/x86_64-linux-gnu/libedit.so.2)\n",
      "warning: /home/jmd/swift/usr/bin/swiftc: /home/jmd/anaconda3/envs/swift/lib/libuuid.so.1: no version information available (required by /home/jmd/swift/usr/bin/swiftc)\n",
      "/home/jmd/swift/usr/bin/swiftc: /home/jmd/anaconda3/envs/swift/lib/libtinfo.so.6: no version information available (required by /lib/x86_64-linux-gnu/libedit.so.2)\n",
      "/home/jmd/swift/usr/bin/swift: /home/jmd/anaconda3/envs/swift/lib/libuuid.so.1: no version information available (required by /home/jmd/swift/usr/bin/swift)\n",
      "/home/jmd/swift/usr/bin/swift: /home/jmd/anaconda3/envs/swift/lib/libtinfo.so.6: no version information available (required by /lib/x86_64-linux-gnu/libedit.so.2)\n",
      "warning: /home/jmd/swift/usr/bin/swiftc: /home/jmd/anaconda3/envs/swift/lib/libuuid.so.1: no version information available (required by /home/jmd/swift/usr/bin/swiftc)\n",
      "/home/jmd/swift/usr/bin/swiftc: /home/jmd/anaconda3/envs/swift/lib/libtinfo.so.6: no version information available (required by /lib/x86_64-linux-gnu/libedit.so.2)\n",
      "/home/jmd/swift/usr/bin/swift: /home/jmd/anaconda3/envs/swift/lib/libuuid.so.1: no version information available (required by /home/jmd/swift/usr/bin/swift)\n",
      "/home/jmd/swift/usr/bin/swift: /home/jmd/anaconda3/envs/swift/lib/libtinfo.so.6: no version information available (required by /lib/x86_64-linux-gnu/libedit.so.2)\n",
      "warning: /home/jmd/swift/usr/bin/swiftc: /home/jmd/anaconda3/envs/swift/lib/libuuid.so.1: no version information available (required by /home/jmd/swift/usr/bin/swiftc)\n",
      "/home/jmd/swift/usr/bin/swiftc: /home/jmd/anaconda3/envs/swift/lib/libtinfo.so.6: no version information available (required by /lib/x86_64-linux-gnu/libedit.so.2)\n",
      "/home/jmd/swift/usr/bin/swift: /home/jmd/anaconda3/envs/swift/lib/libuuid.so.1: no version information available (required by /home/jmd/swift/usr/bin/swift)\n",
      "/home/jmd/swift/usr/bin/swift: /home/jmd/anaconda3/envs/swift/lib/libtinfo.so.6: no version information available (required by /lib/x86_64-linux-gnu/libedit.so.2)\n",
      "warning: /home/jmd/swift/usr/bin/swiftc: /home/jmd/anaconda3/envs/swift/lib/libuuid.so.1: no version information available (required by /home/jmd/swift/usr/bin/swiftc)\n",
      "/home/jmd/swift/usr/bin/swiftc: /home/jmd/anaconda3/envs/swift/lib/libtinfo.so.6: no version information available (required by /lib/x86_64-linux-gnu/libedit.so.2)\n",
      "/home/jmd/swift/usr/bin/swift: /home/jmd/anaconda3/envs/swift/lib/libuuid.so.1: no version information available (required by /home/jmd/swift/usr/bin/swift)\n",
      "/home/jmd/swift/usr/bin/swift: /home/jmd/anaconda3/envs/swift/lib/libtinfo.so.6: no version information available (required by /lib/x86_64-linux-gnu/libedit.so.2)\n",
      "'vips' vips.pc: warning: non whitelisted flag(s): -pthread, -fopenmp, -DMAGICKCORE_HDRI_ENABLE=0, -DMAGICKCORE_QUANTUM_DEPTH=16, -pthread, -pthread, -pthread\n",
      "/home/jmd/swift/usr/bin/swiftc: /home/jmd/anaconda3/envs/swift/lib/libuuid.so.1: no version information available (required by /home/jmd/swift/usr/bin/swiftc)\n",
      "/home/jmd/swift/usr/bin/swiftc: /home/jmd/anaconda3/envs/swift/lib/libtinfo.so.6: no version information available (required by /lib/x86_64-linux-gnu/libedit.so.2)\n",
      "/home/jmd/swift/usr/bin/swiftc: /home/jmd/anaconda3/envs/swift/lib/libuuid.so.1: no version information available (required by /home/jmd/swift/usr/bin/swiftc)/home/jmd/swift/usr/bin/swiftc: /home/jmd/anaconda3/envs/swift/lib/libtinfo.so.6: no version information available (required by /lib/x86_64-linux-gnu/libedit.so.2)[1/14] Compiling FastaiNotebook_01a_fastai_layers 01a_fastai_layers.swift\n",
      "/home/jmd/swift/usr/bin/swift: /home/jmd/anaconda3/envs/swift/lib/libuuid.so.1: no version information available (required by /home/jmd/swift/usr/bin/swift)\n",
      "/home/jmd/swift/usr/bin/swift: /home/jmd/anaconda3/envs/swift/lib/libtinfo.so.6: no version information available (required by /lib/x86_64-linux-gnu/libedit.so.2)\n",
      "/home/jmd/workspace/fastai/course-v3/nbs/swift/FastaiNotebook_01a_fastai_layers/Sources/FastaiNotebook_01a_fastai_layers/01a_fastai_layers.swift:340:27: error: use of undeclared type 'AllDifferentiableVariables'\n",
      "    public var variables: AllDifferentiableVariables {\n",
      "                          ^~~~~~~~~~~~~~~~~~~~~~~~~~\n",
      "/home/jmd/workspace/fastai/course-v3/nbs/swift/FastaiNotebook_01a_fastai_layers/Sources/FastaiNotebook_01a_fastai_layers/01a_fastai_layers.swift:241:15: error: type 'FAAvgPool2D<Scalar>.TangentVector' does not conform to protocol 'VectorProtocol'\n",
      "public struct FAAvgPool2D<Scalar: TensorFlowFloatingPoint>: FALayer {\n",
      "              ^\n",
      "/home/jmd/workspace/fastai/course-v3/nbs/swift/FastaiNotebook_01a_fastai_layers/Sources/FastaiNotebook_01a_fastai_layers/01a_fastai_layers.swift:281:15: error: type 'FAGlobalAvgPool2D<Scalar>.TangentVector' does not conform to protocol 'VectorProtocol'\n",
      "public struct FAGlobalAvgPool2D<Scalar: TensorFlowFloatingPoint>: FALayer {\n",
      "              ^\n",
      "/home/jmd/workspace/fastai/course-v3/nbs/swift/FastaiNotebook_01a_fastai_layers/Sources/FastaiNotebook_01a_fastai_layers/01a_fastai_layers.swift:295:1: error: conditional conformance of type 'Array<Element>' to protocol 'Layer' does not imply conformance to inherited protocol 'Module'\n",
      "extension Array: Layer where Element: Layer, Element.Input == Element.Output {\n",
      "^\n",
      "/home/jmd/workspace/fastai/course-v3/nbs/swift/FastaiNotebook_01a_fastai_layers/Sources/FastaiNotebook_01a_fastai_layers/01a_fastai_layers.swift:295:1: note: did you mean to explicitly state the conformance like 'extension Array: Module where ...'?\n",
      "extension Array: Layer where Element: Layer, Element.Input == Element.Output {\n",
      "^\n",
      "/home/jmd/workspace/fastai/course-v3/nbs/swift/FastaiNotebook_01a_fastai_layers/Sources/FastaiNotebook_01a_fastai_layers/01a_fastai_layers.swift:342:15: error: use of unresolved identifier 'allDifferentiableVariables'\n",
      "        set { allDifferentiableVariables = newValue }\n",
      "              ^~~~~~~~~~~~~~~~~~~~~~~~~~\n",
      "[2/14] Compiling FastaiNotebook_01a_fastai_layers 00_load_data.swift\n",
      "/home/jmd/swift/usr/bin/swift: /home/jmd/anaconda3/envs/swift/lib/libuuid.so.1: no version information available (required by /home/jmd/swift/usr/bin/swift)\n",
      "/home/jmd/swift/usr/bin/swift: /home/jmd/anaconda3/envs/swift/lib/libtinfo.so.6: no version information available (required by /lib/x86_64-linux-gnu/libedit.so.2)\n"
     ]
    },
    {
     "ename": "",
     "evalue": "",
     "output_type": "error",
     "traceback": [
      "Install Error: swift-build returned nonzero exit code 1."
     ]
    }
   ],
   "source": [
    "%install-extra-include-command pkg-config --cflags vips\n",
    "%install-location $cwd/swift-install\n",
    "%install '.package(path: \"$cwd/SwiftVips\")' SwiftVips\n",
    "%install '.package(path: \"$cwd/SwiftSox\")' SwiftSox\n",
    "%install '.package(path: \"$cwd/FastaiNotebook_08_data_block\")' FastaiNotebook_08_data_block"
   ]
  },
  {
   "cell_type": "code",
   "execution_count": 7,
   "metadata": {},
   "outputs": [],
   "source": [
    "import Foundation\n",
    "import Path\n",
    "import FastaiNotebook_08_data_block"
   ]
  },
  {
   "cell_type": "code",
   "execution_count": 8,
   "metadata": {},
   "outputs": [],
   "source": [
    "import sox"
   ]
  },
  {
   "cell_type": "code",
   "execution_count": 9,
   "metadata": {},
   "outputs": [
    {
     "ename": "",
     "evalue": "",
     "output_type": "error",
     "traceback": [
      "error: <Cell 9>:5:63: error: use of undeclared type 'sox_format_t'\npublic func ReadSoxAudio(_ name:String)->UnsafeMutablePointer<sox_format_t> {\n                                                              ^~~~~~~~~~~~\n\nerror: <Cell 9>:2:6: error: use of unresolved identifier 'sox_format_init'\n  if sox_format_init() != SOX_SUCCESS.rawValue { fatalError(\"Can not init SOX!\") }\n     ^~~~~~~~~~~~~~~\n\nerror: <Cell 9>:2:27: error: use of unresolved identifier 'SOX_SUCCESS'\n  if sox_format_init() != SOX_SUCCESS.rawValue { fatalError(\"Can not init SOX!\") }\n                          ^~~~~~~~~~~\n\n"
     ]
    }
   ],
   "source": [
    "public func InitSox() {\n",
    "  if sox_format_init() != SOX_SUCCESS.rawValue { fatalError(\"Can not init SOX!\") }\n",
    "}\n",
    "\n",
    "public func ReadSoxAudio(_ name:String)->UnsafeMutablePointer<sox_format_t> {\n",
    "  return sox_open_read(name, nil, nil, nil)\n",
    "}"
   ]
  },
  {
   "cell_type": "code",
   "execution_count": null,
   "metadata": {},
   "outputs": [],
   "source": []
  }
 ],
 "metadata": {
  "kernelspec": {
   "display_name": "Swift",
   "language": "swift",
   "name": "swift"
  },
  "language_info": {
   "file_extension": ".swift",
   "mimetype": "text/x-swift",
   "name": "swift",
   "version": ""
  }
 },
 "nbformat": 4,
 "nbformat_minor": 2
}

{
 "cells": [
  {
   "cell_type": "code",
   "execution_count": 1,
   "metadata": {},
   "outputs": [
    {
     "name": "stdout",
     "output_type": "stream",
     "text": [
      "Installing packages:\n",
      "\t.package(path: \"/home/jmd/workspace/ml/fastai/nbs/swift/FastaiNotebook_05_anneal\")\n",
      "\t\tFastaiNotebook_05_anneal\n",
      "With SwiftPM flags: []\n",
      "Working in: /tmp/tmp2kl5o1fg/swift-install\n",
      "/home/jmd/swift/usr/bin/swift-build: /home/jmd/anaconda3/lib/libcurl.so.4: no version information available (required by /home/jmd/swift/usr/lib/swift/linux/libFoundationNetworking.so)\n",
      "[1/11] Compiling FastaiNotebook_05_anneal 02a_why_sqrt5.swift\n",
      "[2/11] Compiling FastaiNotebook_05_anneal 03_minibatch_training.swift\n",
      "[3/11] Compiling FastaiNotebook_05_anneal 00_load_data.swift\n",
      "[4/11] Compiling FastaiNotebook_05_anneal 01_matmul.swift\n",
      "[5/11] Compiling FastaiNotebook_05_anneal 01a_fastai_layers.swift\n",
      "[6/11] Compiling FastaiNotebook_05_anneal 02_fully_connected.swift\n",
      "[7/11] Compiling FastaiNotebook_05_anneal 04_callbacks.swift\n",
      "/home/jmd/workspace/ml/fastai/nbs/swift/FastaiNotebook_05_anneal/Sources/FastaiNotebook_05_anneal/04_callbacks.swift:27:25: warning: 'Dataset' is deprecated: Datasets will be removed in S4TF v0.10. Please use the new Batches API instead.\n",
      "    public var innerDs: Dataset<Element>\n",
      "                        ^\n",
      "/home/jmd/workspace/ml/fastai/nbs/swift/FastaiNotebook_05_anneal/Sources/FastaiNotebook_05_anneal/04_callbacks.swift:35:20: warning: 'Dataset' is deprecated: Datasets will be removed in S4TF v0.10. Please use the new Batches API instead.\n",
      "    public var ds: Dataset<Element> { \n",
      "                   ^\n",
      "/home/jmd/workspace/ml/fastai/nbs/swift/FastaiNotebook_05_anneal/Sources/FastaiNotebook_05_anneal/04_callbacks.swift:41:23: warning: 'Dataset' is deprecated: Datasets will be removed in S4TF v0.10. Please use the new Batches API instead.\n",
      "    public init(_ ds: Dataset<Element>, len: Int, shuffle: Bool = false, bs: Int = 64) {\n",
      "                      ^\n",
      "/home/jmd/workspace/ml/fastai/nbs/swift/FastaiNotebook_05_anneal/Sources/FastaiNotebook_05_anneal/04_callbacks.swift:49:24: warning: 'Dataset' is deprecated: Datasets will be removed in S4TF v0.10. Please use the new Batches API instead.\n",
      "    public init(train: Dataset<Element>, valid: Dataset<Element>, trainLen: Int, validLen: Int, bs: Int = 64) {\n",
      "                       ^\n",
      "/home/jmd/workspace/ml/fastai/nbs/swift/FastaiNotebook_05_anneal/Sources/FastaiNotebook_05_anneal/04_callbacks.swift:49:49: warning: 'Dataset' is deprecated: Datasets will be removed in S4TF v0.10. Please use the new Batches API instead.\n",
      "    public init(train: Dataset<Element>, valid: Dataset<Element>, trainLen: Int, validLen: Int, bs: Int = 64) {\n",
      "                                                ^\n",
      "/home/jmd/workspace/ml/fastai/nbs/swift/FastaiNotebook_05_anneal/Sources/FastaiNotebook_05_anneal/04_callbacks.swift:36:38: warning: 'batched' is deprecated\n",
      "        if !shuffle { return innerDs.batched(bs)}\n",
      "                                     ^\n",
      "/home/jmd/workspace/ml/fastai/nbs/swift/FastaiNotebook_05_anneal/Sources/FastaiNotebook_05_anneal/04_callbacks.swift:38:24: warning: 'shuffled(sampleCount:randomSeed:reshuffleForEachIterator:)' is deprecated\n",
      "        return innerDs.shuffled(sampleCount: dsCount, randomSeed: seed).batched(bs)\n",
      "                       ^\n",
      "/home/jmd/workspace/ml/fastai/nbs/swift/FastaiNotebook_05_anneal/Sources/FastaiNotebook_05_anneal/04_callbacks.swift:38:73: warning: 'batched' is deprecated\n",
      "        return innerDs.shuffled(sampleCount: dsCount, randomSeed: seed).batched(bs)\n",
      "                                                                        ^\n",
      "/home/jmd/workspace/ml/fastai/nbs/swift/FastaiNotebook_05_anneal/Sources/FastaiNotebook_05_anneal/04_callbacks.swift:58:29: warning: 'Dataset' is deprecated: Datasets will be removed in S4TF v0.10. Please use the new Batches API instead.\n",
      "    return DataBunch(train: Dataset(elements: DataBatch(xb:xTrain, yb: yTrain)), \n",
      "                            ^\n",
      "/home/jmd/workspace/ml/fastai/nbs/swift/FastaiNotebook_05_anneal/Sources/FastaiNotebook_05_anneal/04_callbacks.swift:59:29: warning: 'Dataset' is deprecated: Datasets will be removed in S4TF v0.10. Please use the new Batches API instead.\n",
      "                     valid: Dataset(elements: DataBatch(xb:xValid, yb: yValid)),\n",
      "                            ^\n",
      "/home/jmd/workspace/ml/fastai/nbs/swift/FastaiNotebook_05_anneal/Sources/FastaiNotebook_05_anneal/04_callbacks.swift:58:29: warning: 'Dataset' is deprecated: Datasets will be removed in S4TF v0.10. Please use the new Batches API instead.\n",
      "    return DataBunch(train: Dataset(elements: DataBatch(xb:xTrain, yb: yTrain)), \n",
      "                            ^\n",
      "/home/jmd/workspace/ml/fastai/nbs/swift/FastaiNotebook_05_anneal/Sources/FastaiNotebook_05_anneal/04_callbacks.swift:59:29: warning: 'Dataset' is deprecated: Datasets will be removed in S4TF v0.10. Please use the new Batches API instead.\n",
      "                     valid: Dataset(elements: DataBatch(xb:xValid, yb: yValid)),\n",
      "                            ^\n",
      "/home/jmd/workspace/ml/fastai/nbs/swift/FastaiNotebook_05_anneal/Sources/FastaiNotebook_05_anneal/04_callbacks.swift:58:29: warning: 'Dataset' is deprecated: Datasets will be removed in S4TF v0.10. Please use the new Batches API instead.\n",
      "    return DataBunch(train: Dataset(elements: DataBatch(xb:xTrain, yb: yTrain)), \n",
      "                            ^\n",
      "/home/jmd/workspace/ml/fastai/nbs/swift/FastaiNotebook_05_anneal/Sources/FastaiNotebook_05_anneal/04_callbacks.swift:59:29: warning: 'Dataset' is deprecated: Datasets will be removed in S4TF v0.10. Please use the new Batches API instead.\n",
      "                     valid: Dataset(elements: DataBatch(xb:xValid, yb: yValid)),\n",
      "                            ^\n",
      "/home/jmd/workspace/ml/fastai/nbs/swift/FastaiNotebook_05_anneal/Sources/FastaiNotebook_05_anneal/04_callbacks.swift:58:29: warning: 'init(elements:)' is deprecated\n",
      "    return DataBunch(train: Dataset(elements: DataBatch(xb:xTrain, yb: yTrain)), \n",
      "                            ^\n",
      "/home/jmd/workspace/ml/fastai/nbs/swift/FastaiNotebook_05_anneal/Sources/FastaiNotebook_05_anneal/04_callbacks.swift:59:29: warning: 'init(elements:)' is deprecated\n",
      "                     valid: Dataset(elements: DataBatch(xb:xValid, yb: yValid)),\n",
      "                            ^\n",
      "[8/11] Compiling FastaiNotebook_05_anneal 05_anneal.swift\n",
      "/home/jmd/workspace/ml/fastai/nbs/swift/FastaiNotebook_05_anneal/Sources/FastaiNotebook_05_anneal/04_callbacks.swift:27:25: warning: 'Dataset' is deprecated: Datasets will be removed in S4TF v0.10. Please use the new Batches API instead.\n",
      "    public var innerDs: Dataset<Element>\n",
      "                        ^\n",
      "/home/jmd/workspace/ml/fastai/nbs/swift/FastaiNotebook_05_anneal/Sources/FastaiNotebook_05_anneal/04_callbacks.swift:35:20: warning: 'Dataset' is deprecated: Datasets will be removed in S4TF v0.10. Please use the new Batches API instead.\n",
      "    public var ds: Dataset<Element> { \n",
      "                   ^\n",
      "/home/jmd/workspace/ml/fastai/nbs/swift/FastaiNotebook_05_anneal/Sources/FastaiNotebook_05_anneal/04_callbacks.swift:41:23: warning: 'Dataset' is deprecated: Datasets will be removed in S4TF v0.10. Please use the new Batches API instead.\n",
      "    public init(_ ds: Dataset<Element>, len: Int, shuffle: Bool = false, bs: Int = 64) {\n",
      "                      ^\n",
      "/home/jmd/workspace/ml/fastai/nbs/swift/FastaiNotebook_05_anneal/Sources/FastaiNotebook_05_anneal/04_callbacks.swift:49:24: warning: 'Dataset' is deprecated: Datasets will be removed in S4TF v0.10. Please use the new Batches API instead.\n",
      "    public init(train: Dataset<Element>, valid: Dataset<Element>, trainLen: Int, validLen: Int, bs: Int = 64) {\n",
      "                       ^\n",
      "/home/jmd/workspace/ml/fastai/nbs/swift/FastaiNotebook_05_anneal/Sources/FastaiNotebook_05_anneal/04_callbacks.swift:49:49: warning: 'Dataset' is deprecated: Datasets will be removed in S4TF v0.10. Please use the new Batches API instead.\n",
      "    public init(train: Dataset<Element>, valid: Dataset<Element>, trainLen: Int, validLen: Int, bs: Int = 64) {\n",
      "                                                ^\n",
      "/home/jmd/workspace/ml/fastai/nbs/swift/FastaiNotebook_05_anneal/Sources/FastaiNotebook_05_anneal/04_callbacks.swift:36:38: warning: 'batched' is deprecated\n",
      "        if !shuffle { return innerDs.batched(bs)}\n",
      "                                     ^\n",
      "/home/jmd/workspace/ml/fastai/nbs/swift/FastaiNotebook_05_anneal/Sources/FastaiNotebook_05_anneal/04_callbacks.swift:38:24: warning: 'shuffled(sampleCount:randomSeed:reshuffleForEachIterator:)' is deprecated\n"
     ]
    },
    {
     "name": "stdout",
     "output_type": "stream",
     "text": [
      "        return innerDs.shuffled(sampleCount: dsCount, randomSeed: seed).batched(bs)\n",
      "                       ^\n",
      "/home/jmd/workspace/ml/fastai/nbs/swift/FastaiNotebook_05_anneal/Sources/FastaiNotebook_05_anneal/04_callbacks.swift:38:73: warning: 'batched' is deprecated\n",
      "        return innerDs.shuffled(sampleCount: dsCount, randomSeed: seed).batched(bs)\n",
      "                                                                        ^\n",
      "/home/jmd/workspace/ml/fastai/nbs/swift/FastaiNotebook_05_anneal/Sources/FastaiNotebook_05_anneal/04_callbacks.swift:58:29: warning: 'Dataset' is deprecated: Datasets will be removed in S4TF v0.10. Please use the new Batches API instead.\n",
      "    return DataBunch(train: Dataset(elements: DataBatch(xb:xTrain, yb: yTrain)), \n",
      "                            ^\n",
      "/home/jmd/workspace/ml/fastai/nbs/swift/FastaiNotebook_05_anneal/Sources/FastaiNotebook_05_anneal/04_callbacks.swift:59:29: warning: 'Dataset' is deprecated: Datasets will be removed in S4TF v0.10. Please use the new Batches API instead.\n",
      "                     valid: Dataset(elements: DataBatch(xb:xValid, yb: yValid)),\n",
      "                            ^\n",
      "/home/jmd/workspace/ml/fastai/nbs/swift/FastaiNotebook_05_anneal/Sources/FastaiNotebook_05_anneal/04_callbacks.swift:58:29: warning: 'Dataset' is deprecated: Datasets will be removed in S4TF v0.10. Please use the new Batches API instead.\n",
      "    return DataBunch(train: Dataset(elements: DataBatch(xb:xTrain, yb: yTrain)), \n",
      "                            ^\n",
      "/home/jmd/workspace/ml/fastai/nbs/swift/FastaiNotebook_05_anneal/Sources/FastaiNotebook_05_anneal/04_callbacks.swift:59:29: warning: 'Dataset' is deprecated: Datasets will be removed in S4TF v0.10. Please use the new Batches API instead.\n",
      "                     valid: Dataset(elements: DataBatch(xb:xValid, yb: yValid)),\n",
      "                            ^\n",
      "/home/jmd/workspace/ml/fastai/nbs/swift/FastaiNotebook_05_anneal/Sources/FastaiNotebook_05_anneal/04_callbacks.swift:58:29: warning: 'Dataset' is deprecated: Datasets will be removed in S4TF v0.10. Please use the new Batches API instead.\n",
      "    return DataBunch(train: Dataset(elements: DataBatch(xb:xTrain, yb: yTrain)), \n",
      "                            ^\n",
      "/home/jmd/workspace/ml/fastai/nbs/swift/FastaiNotebook_05_anneal/Sources/FastaiNotebook_05_anneal/04_callbacks.swift:59:29: warning: 'Dataset' is deprecated: Datasets will be removed in S4TF v0.10. Please use the new Batches API instead.\n",
      "                     valid: Dataset(elements: DataBatch(xb:xValid, yb: yValid)),\n",
      "                            ^\n",
      "/home/jmd/workspace/ml/fastai/nbs/swift/FastaiNotebook_05_anneal/Sources/FastaiNotebook_05_anneal/04_callbacks.swift:58:29: warning: 'init(elements:)' is deprecated\n",
      "    return DataBunch(train: Dataset(elements: DataBatch(xb:xTrain, yb: yTrain)), \n",
      "                            ^\n",
      "/home/jmd/workspace/ml/fastai/nbs/swift/FastaiNotebook_05_anneal/Sources/FastaiNotebook_05_anneal/04_callbacks.swift:59:29: warning: 'init(elements:)' is deprecated\n",
      "                     valid: Dataset(elements: DataBatch(xb:xValid, yb: yValid)),\n",
      "                            ^\n",
      "[9/12] Merging module FastaiNotebook_05_anneal\n",
      "[10/13] Wrapping AST for FastaiNotebook_05_anneal for debugging\n",
      "[11/13] Compiling jupyterInstalledPackages jupyterInstalledPackages.swift\n",
      "[12/14] Merging module jupyterInstalledPackages\n",
      "[13/13] Linking libjupyterInstalledPackages.so\n",
      "Initializing Swift...\n",
      "Installation complete!\n"
     ]
    }
   ],
   "source": [
    "%install-location $cwd/swift-install\n",
    "%install '.package(path: \"$cwd/FastaiNotebook_05_anneal\")' FastaiNotebook_05_anneal"
   ]
  },
  {
   "cell_type": "code",
   "execution_count": 2,
   "metadata": {},
   "outputs": [],
   "source": [
    "//export\n",
    "import Path\n",
    "import TensorFlow\n",
    "#if canImport(PythonKit)\n",
    "    import PythonKit\n",
    "#else\n",
    "    import Python\n",
    "#endif\n"
   ]
  },
  {
   "cell_type": "code",
   "execution_count": 3,
   "metadata": {},
   "outputs": [],
   "source": [
    "import FastaiNotebook_05_anneal"
   ]
  },
  {
   "cell_type": "code",
   "execution_count": 4,
   "metadata": {},
   "outputs": [
    {
     "data": {
      "text/plain": [
       "('inline', 'module://ipykernel.pylab.backend_inline')\n"
      ]
     },
     "execution_count": 4,
     "metadata": {},
     "output_type": "execute_result"
    }
   ],
   "source": [
    "%include \"EnableIPythonDisplay.swift\"\n",
    "IPythonDisplay.shell.enable_matplotlib(\"inline\")"
   ]
  },
  {
   "cell_type": "code",
   "execution_count": 5,
   "metadata": {},
   "outputs": [],
   "source": [
    "let data = mnistDataBunch(flat: true)"
   ]
  },
  {
   "cell_type": "code",
   "execution_count": 6,
   "metadata": {},
   "outputs": [],
   "source": [
    "let (n,m) = (60000,784)\n",
    "let c = 10\n",
    "let nHid = 50"
   ]
  },
  {
   "cell_type": "code",
   "execution_count": 7,
   "metadata": {},
   "outputs": [],
   "source": [
    "func optFunc(_ model: BasicModel) -> SGD<BasicModel> {return SGD(for: model, learningRate: 1e-2)}"
   ]
  },
  {
   "cell_type": "code",
   "execution_count": 8,
   "metadata": {},
   "outputs": [],
   "source": [
    "func modelInit() -> BasicModel {return BasicModel(nIn: m, nHid: nHid, nOut: c)}"
   ]
  },
  {
   "cell_type": "code",
   "execution_count": 9,
   "metadata": {},
   "outputs": [],
   "source": [
    "let learner = Learner(data: data, lossFunc: crossEntropy, optFunc: optFunc, modelInit: modelInit)\n",
    "let recorder = learner.makeRecorder()"
   ]
  },
  {
   "cell_type": "code",
   "execution_count": 10,
   "metadata": {},
   "outputs": [],
   "source": [
    "learner.delegates = [learner.makeTrainEvalDelegate(), learner.makeShowProgress(),\n",
    "                     learner.makeNormalize(mean: mnistStats.mean, std: mnistStats.std),\n",
    "                     learner.makeAvgMetric(metrics: [accuracy]), recorder]"
   ]
  },
  {
   "cell_type": "code",
   "execution_count": 11,
   "metadata": {},
   "outputs": [
    {
     "name": "stdout",
     "output_type": "stream",
     "text": [
      "Epoch 0: [0.29762614, 0.9157]                                                  \n",
      "Epoch 1: [0.24082728, 0.9295]                                                  \n",
      "                                                                           \r"
     ]
    }
   ],
   "source": [
    "learner.fit(2)"
   ]
  },
  {
   "cell_type": "code",
   "execution_count": 12,
   "metadata": {},
   "outputs": [],
   "source": [
    "// export\n",
    "//TODO: when recorder can be accessed as a property, remove it from the return\n",
    "extension Learner where Opt.Scalar: PythonConvertible {\n",
    "    public func makeDefaultDelegates(metrics: [(Output, Label) -> TF] = []) -> Recorder {\n",
    "        let recorder = makeRecorder()\n",
    "        delegates = [makeTrainEvalDelegate(), makeShowProgress(), recorder]\n",
    "        if !metrics.isEmpty { delegates.append(makeAvgMetric(metrics: metrics)) }\n",
    "        return recorder\n",
    "    }\n",
    "}"
   ]
  },
  {
   "cell_type": "code",
   "execution_count": 13,
   "metadata": {},
   "outputs": [],
   "source": [
    "extension Learner {\n",
    "    public class TestControlFlow: Delegate {\n",
    "        public override var order: Int { return 3 }\n",
    "        \n",
    "        var skipAfter,stopAfter: Int\n",
    "        public init(skipAfter:Int, stopAfter: Int){  (self.skipAfter,self.stopAfter) = (skipAfter,stopAfter) }\n",
    "        \n",
    "        public override func batchWillStart(learner: Learner) throws {\n",
    "            print(\"batchWillStart\")\n",
    "            if learner.currentIter >= stopAfter {\n",
    "                throw LearnerAction.stop(reason: \"*** stopped: \\(learner.currentIter)\")\n",
    "            }\n",
    "            if learner.currentIter >= skipAfter {\n",
    "                throw LearnerAction.skipBatch(reason: \"*** skipBatch: \\(learner.currentIter)\")\n",
    "            }\n",
    "        }\n",
    "        \n",
    "        public override func trainingDidFinish(learner: Learner) {\n",
    "            print(\"trainingDidFinish\")\n",
    "        }\n",
    "        \n",
    "        public override func batchSkipped(learner: Learner, reason: String) {\n",
    "            print(reason)\n",
    "        }\n",
    "    }\n",
    "}"
   ]
  },
  {
   "cell_type": "code",
   "execution_count": 14,
   "metadata": {},
   "outputs": [],
   "source": [
    "let learner = Learner(data: data, lossFunc: crossEntropy, optFunc: optFunc, modelInit: modelInit)"
   ]
  },
  {
   "cell_type": "code",
   "execution_count": 15,
   "metadata": {},
   "outputs": [],
   "source": [
    "learner.delegates = [type(of: learner).TestControlFlow(skipAfter:5, stopAfter: 8),\n",
    "                     learner.makeTrainEvalDelegate()]"
   ]
  },
  {
   "cell_type": "code",
   "execution_count": 16,
   "metadata": {},
   "outputs": [
    {
     "name": "stdout",
     "output_type": "stream",
     "text": [
      "batchWillStart\n",
      "batchWillStart\n",
      "batchWillStart\n",
      "batchWillStart\n",
      "batchWillStart\n",
      "batchWillStart\n",
      "*** skipBatch: 5\n",
      "batchWillStart\n",
      "*** skipBatch: 6\n",
      "batchWillStart\n",
      "*** skipBatch: 7\n",
      "batchWillStart\n",
      "trainingDidFinish\n"
     ]
    }
   ],
   "source": [
    "learner.fit(5)"
   ]
  },
  {
   "cell_type": "code",
   "execution_count": 17,
   "metadata": {},
   "outputs": [
    {
     "data": {
      "text/plain": [
       "▿ 2 elements\n",
       "  - .0 : 0\n",
       "  - .1 : 3\n"
      ]
     },
     "execution_count": 17,
     "metadata": {},
     "output_type": "execute_result"
    }
   ],
   "source": [
    "(learner.delegates[0].order,learner.delegates[1].order)"
   ]
  },
  {
   "cell_type": "code",
   "execution_count": 18,
   "metadata": {},
   "outputs": [],
   "source": [
    "// export\n",
    "extension Learner where Opt.Scalar: BinaryFloatingPoint {\n",
    "    public class LRFinder: Delegate {\n",
    "        public typealias ScheduleFunc = (Float) -> Float\n",
    "\n",
    "        // A learning rate schedule from step to float.\n",
    "        private var scheduler: ScheduleFunc\n",
    "        private var numIter: Int\n",
    "        private var minLoss: Float? = nil\n",
    "        \n",
    "        public init(start: Float = 1e-5, end: Float = 10, numIter: Int = 100) {\n",
    "            scheduler = makeAnnealer(start: start, end: end, schedule: expSchedule)\n",
    "            self.numIter = numIter\n",
    "        }\n",
    "        \n",
    "        override public func batchWillStart(learner: Learner) {\n",
    "            learner.opt.learningRate = Opt.Scalar(scheduler(Float(learner.currentIter)/Float(numIter)))\n",
    "        }\n",
    "        \n",
    "        override public func batchDidFinish(learner: Learner) throws {\n",
    "            if minLoss == nil {minLoss = learner.currentLoss.scalar}\n",
    "            else { \n",
    "                if learner.currentLoss.scalarized() < minLoss! { minLoss = learner.currentLoss.scalarized()}\n",
    "                if learner.currentLoss.scalarized() > 4 * minLoss! { \n",
    "                    throw LearnerAction.stop(reason: \"Loss diverged\")\n",
    "                }\n",
    "                if learner.currentIter >= numIter { \n",
    "                    throw LearnerAction.stop(reason: \"Finished the range.\") \n",
    "                }\n",
    "            }\n",
    "        }\n",
    "        \n",
    "        override public func validationWillStart(learner: Learner<Label, Opt>) throws {\n",
    "            //Skip validation during the LR range test\n",
    "            throw LearnerAction.skipEpoch(reason: \"No validation in the LR Finder.\")\n",
    "        }\n",
    "    }\n",
    "    \n",
    "    public func makeLRFinder(start: Float = 1e-5, end: Float = 10, numIter: Int = 100) -> LRFinder {\n",
    "        return LRFinder(start: start, end: end, numIter: numIter)\n",
    "    }\n",
    "}"
   ]
  },
  {
   "cell_type": "code",
   "execution_count": 19,
   "metadata": {},
   "outputs": [],
   "source": [
    "let learner = Learner(data: data, lossFunc: crossEntropy, optFunc: optFunc, modelInit: modelInit)\n",
    "let recorder = learner.makeDefaultDelegates()"
   ]
  },
  {
   "cell_type": "code",
   "execution_count": 20,
   "metadata": {},
   "outputs": [],
   "source": [
    "learner.delegates.append(learner.makeNormalize(mean: mnistStats.mean, std: mnistStats.std))\n",
    "learner.delegates.append(learner.makeLRFinder())"
   ]
  },
  {
   "cell_type": "code",
   "execution_count": 21,
   "metadata": {},
   "outputs": [
    {
     "name": "stdout",
     "output_type": "stream",
     "text": [
      "                                                                             \r"
     ]
    }
   ],
   "source": [
    "learner.fit(2)"
   ]
  },
  {
   "cell_type": "code",
   "execution_count": 22,
   "metadata": {},
   "outputs": [
    {
     "data": {
      "image/png": "[encoded data removed]",
      "text/plain": [
       "<Figure size 432x288 with 1 Axes>"
      ]
     },
     "metadata": {
      "needs_background": "light"
     },
     "output_type": "display_data"
    }
   ],
   "source": [
    "recorder.plotLRFinder()"
   ]
  },
  {
   "cell_type": "code",
   "execution_count": 23,
   "metadata": {},
   "outputs": [],
   "source": [
    "// export\n",
    "//TODO: when Recorder is a property of Learner don't return it.\n",
    "extension Learner where Opt.Scalar: PythonConvertible & BinaryFloatingPoint {\n",
    "    public func lrFind(start: Float = 1e-5, end: Float = 10, numIter: Int = 100) -> Recorder {\n",
    "        let epochCount = data.train.count/numIter + 1\n",
    "        let recorder = makeDefaultDelegates()\n",
    "        delegates.append(makeLRFinder(start: start, end: end, numIter: numIter))\n",
    "        try! self.fit(epochCount)\n",
    "        return recorder\n",
    "    }\n",
    "}"
   ]
  },
  {
   "cell_type": "code",
   "execution_count": 24,
   "metadata": {},
   "outputs": [
    {
     "name": "stdout",
     "output_type": "stream",
     "text": [
      "                                                                             \r"
     ]
    }
   ],
   "source": [
    "let recorder = learner.lrFind()"
   ]
  },
  {
   "cell_type": "code",
   "execution_count": 25,
   "metadata": {},
   "outputs": [
    {
     "data": {
      "image/png": "[encoded data removed]",
      "text/plain": [
       "<Figure size 432x288 with 1 Axes>"
      ]
     },
     "metadata": {
      "needs_background": "light"
     },
     "output_type": "display_data"
    }
   ],
   "source": [
    "recorder.plotLRFinder()"
   ]
  },
  {
   "cell_type": "code",
   "execution_count": 26,
   "metadata": {},
   "outputs": [
    {
     "name": "stdout",
     "output_type": "stream",
     "text": [
      "success\r\n"
     ]
    }
   ],
   "source": [
    "import NotebookExport\n",
    "let exporter = NotebookExport(Path.cwd/\"05b_early_stopping.ipynb\")\n",
    "print(exporter.export(usingPrefix: \"FastaiNotebook_\"))"
   ]
  },
  {
   "cell_type": "code",
   "execution_count": null,
   "metadata": {},
   "outputs": [],
   "source": []
  }
 ],
 "metadata": {
  "kernelspec": {
   "display_name": "Swift",
   "language": "swift",
   "name": "swift"
  },
  "language_info": {
   "file_extension": ".swift",
   "mimetype": "text/x-swift",
   "name": "swift",
   "version": ""
  }
 },
 "nbformat": 4,
 "nbformat_minor": 2
}
